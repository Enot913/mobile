{
 "cells": [
  {
   "cell_type": "markdown",
   "metadata": {},
   "source": [
    "# Определение перспективного тарифа для телеком-компании"
   ]
  },
  {
   "cell_type": "markdown",
   "metadata": {
    "toc": true
   },
   "source": [
    "<h1>Оглавление<span class=\"tocSkip\"></span></h1>\n",
    "<div class=\"toc\"><ul class=\"toc-item\"><li><span><a href=\"#Описание-проекта\" data-toc-modified-id=\"Описание-проекта-1\"><span class=\"toc-item-num\">1&nbsp;&nbsp;</span>Описание проекта</a></span></li><li><span><a href=\"#Импортируем-данные,-изучим-и-подготовим-их-к-анализу.\" data-toc-modified-id=\"Импортируем-данные,-изучим-и-подготовим-их-к-анализу.-2\"><span class=\"toc-item-num\">2&nbsp;&nbsp;</span>Импортируем данные, изучим и подготовим их к анализу.</a></span><ul class=\"toc-item\"><li><span><a href=\"#Импорт-библиотек\" data-toc-modified-id=\"Импорт-библиотек-2.1\"><span class=\"toc-item-num\">2.1&nbsp;&nbsp;</span>Импорт библиотек</a></span></li><li><span><a href=\"#Обзор-данных\" data-toc-modified-id=\"Обзор-данных-2.2\"><span class=\"toc-item-num\">2.2&nbsp;&nbsp;</span>Обзор данных</a></span><ul class=\"toc-item\"><li><span><a href=\"#cal---информация-о-звонках\" data-toc-modified-id=\"cal---информация-о-звонках-2.2.1\"><span class=\"toc-item-num\">2.2.1&nbsp;&nbsp;</span>cal - информация о звонках</a></span></li><li><span><a href=\"#inet---информация-об-интернет-трафике\" data-toc-modified-id=\"inet---информация-об-интернет-трафике-2.2.2\"><span class=\"toc-item-num\">2.2.2&nbsp;&nbsp;</span>inet - информация об интернет-трафике</a></span></li><li><span><a href=\"#mes---информация-о-сообщениях\" data-toc-modified-id=\"mes---информация-о-сообщениях-2.2.3\"><span class=\"toc-item-num\">2.2.3&nbsp;&nbsp;</span>mes - информация о сообщениях</a></span></li><li><span><a href=\"#trf---информация-о-тарифах\" data-toc-modified-id=\"trf---информация-о-тарифах-2.2.4\"><span class=\"toc-item-num\">2.2.4&nbsp;&nbsp;</span>trf - информация о тарифах</a></span></li><li><span><a href=\"#usr---информация-о-пользователях\" data-toc-modified-id=\"usr---информация-о-пользователях-2.2.5\"><span class=\"toc-item-num\">2.2.5&nbsp;&nbsp;</span>usr - информация о пользователях</a></span></li></ul></li><li><span><a href=\"#Вывод\" data-toc-modified-id=\"Вывод-2.3\"><span class=\"toc-item-num\">2.3&nbsp;&nbsp;</span>Вывод</a></span></li><li><span><a href=\"#Подготовка-данных\" data-toc-modified-id=\"Подготовка-данных-2.4\"><span class=\"toc-item-num\">2.4&nbsp;&nbsp;</span>Подготовка данных</a></span><ul class=\"toc-item\"><li><span><a href=\"#Округление-звонков\" data-toc-modified-id=\"Округление-звонков-2.4.1\"><span class=\"toc-item-num\">2.4.1&nbsp;&nbsp;</span>Округление звонков</a></span></li><li><span><a href=\"#Объединение-датафреймов\" data-toc-modified-id=\"Объединение-датафреймов-2.4.2\"><span class=\"toc-item-num\">2.4.2&nbsp;&nbsp;</span>Объединение датафреймов</a></span></li><li><span><a href=\"#Подсчёт-выручки\" data-toc-modified-id=\"Подсчёт-выручки-2.4.3\"><span class=\"toc-item-num\">2.4.3&nbsp;&nbsp;</span>Подсчёт выручки</a></span></li><li><span><a href=\"#Вывод:\" data-toc-modified-id=\"Вывод:-2.4.4\"><span class=\"toc-item-num\">2.4.4&nbsp;&nbsp;</span>Вывод:</a></span></li></ul></li></ul></li><li><span><a href=\"#Исследовательский-анализ\" data-toc-modified-id=\"Исследовательский-анализ-3\"><span class=\"toc-item-num\">3&nbsp;&nbsp;</span>Исследовательский анализ</a></span><ul class=\"toc-item\"><li><ul class=\"toc-item\"><li><span><a href=\"#Сравнительные-гистограммы-по-каждому-из-показателей\" data-toc-modified-id=\"Сравнительные-гистограммы-по-каждому-из-показателей-3.0.1\"><span class=\"toc-item-num\">3.0.1&nbsp;&nbsp;</span>Сравнительные гистограммы по каждому из показателей</a></span></li><li><span><a href=\"#Вывод\" data-toc-modified-id=\"Вывод-3.0.2\"><span class=\"toc-item-num\">3.0.2&nbsp;&nbsp;</span>Вывод</a></span></li></ul></li><li><span><a href=\"#Посчитайте-среднее-количество,-дисперсию-и-стандартное-отклонение.\" data-toc-modified-id=\"Посчитайте-среднее-количество,-дисперсию-и-стандартное-отклонение.-3.1\"><span class=\"toc-item-num\">3.1&nbsp;&nbsp;</span>Посчитайте среднее количество, дисперсию и стандартное отклонение.</a></span><ul class=\"toc-item\"><li><span><a href=\"#Средняя-выручка\" data-toc-modified-id=\"Средняя-выручка-3.1.1\"><span class=\"toc-item-num\">3.1.1&nbsp;&nbsp;</span>Средняя выручка</a></span></li><li><span><a href=\"#Дисперсия\" data-toc-modified-id=\"Дисперсия-3.1.2\"><span class=\"toc-item-num\">3.1.2&nbsp;&nbsp;</span>Дисперсия</a></span></li><li><span><a href=\"#Стандартное-отклонение\" data-toc-modified-id=\"Стандартное-отклонение-3.1.3\"><span class=\"toc-item-num\">3.1.3&nbsp;&nbsp;</span>Стандартное отклонение</a></span></li></ul></li><li><span><a href=\"#Вывод\" data-toc-modified-id=\"Вывод-3.2\"><span class=\"toc-item-num\">3.2&nbsp;&nbsp;</span>Вывод</a></span></li></ul></li><li><span><a href=\"#Проверка-гипотез\" data-toc-modified-id=\"Проверка-гипотез-4\"><span class=\"toc-item-num\">4&nbsp;&nbsp;</span>Проверка гипотез</a></span><ul class=\"toc-item\"><li><span><a href=\"#Гипотеза-№-1:-средняя-выручка-пользователей-тарифов-«Ультра»-и-«Смарт»-различаются\" data-toc-modified-id=\"Гипотеза-№-1:-средняя-выручка-пользователей-тарифов-«Ультра»-и-«Смарт»-различаются-4.1\"><span class=\"toc-item-num\">4.1&nbsp;&nbsp;</span>Гипотеза № 1: средняя выручка пользователей тарифов «Ультра» и «Смарт» различаются</a></span><ul class=\"toc-item\"><li><span><a href=\"#Вывод\" data-toc-modified-id=\"Вывод-4.1.1\"><span class=\"toc-item-num\">4.1.1&nbsp;&nbsp;</span>Вывод</a></span></li></ul></li><li><span><a href=\"#Гипотеза-№-2:-средняя-выручка-пользователей-из-Москвы-отличается-от-выручки-пользователей-из-других-регионов\" data-toc-modified-id=\"Гипотеза-№-2:-средняя-выручка-пользователей-из-Москвы-отличается-от-выручки-пользователей-из-других-регионов-4.2\"><span class=\"toc-item-num\">4.2&nbsp;&nbsp;</span>Гипотеза № 2: средняя выручка пользователей из Москвы отличается от выручки пользователей из других регионов</a></span><ul class=\"toc-item\"><li><span><a href=\"#Вывод\" data-toc-modified-id=\"Вывод-4.2.1\"><span class=\"toc-item-num\">4.2.1&nbsp;&nbsp;</span>Вывод</a></span></li></ul></li></ul></li><li><span><a href=\"#Общий-вывод\" data-toc-modified-id=\"Общий-вывод-5\"><span class=\"toc-item-num\">5&nbsp;&nbsp;</span>Общий вывод</a></span></li></ul></div>"
   ]
  },
  {
   "cell_type": "markdown",
   "metadata": {},
   "source": [
    "### Описание проекта"
   ]
  },
  {
   "cell_type": "markdown",
   "metadata": {},
   "source": [
    "Для анализа представлены данные оператора сотовой связи.  \n",
    "\n",
    "Клиентам компании предлагают два тарифных плана: «Смарт» и «Ультра».  \n",
    "Чтобы оптимизировать рекламный бюджет, руководству необходимо понять, какой тариф выгоднее для компании.  \n",
    "\n",
    "Необходимо сделать предварительный анализ тарифов на небольшой выборке клиентов.  \n",
    "В нашем распоряжении данные 500 пользователей за 2018 год.\n",
    "\n",
    "Описание тарифов:  \n",
    "\n",
    "**Тариф «Смарт»**:  \n",
    "1. Ежемесячная плата: 550 рублей\n",
    "2. Включено 500 минут разговора, 50 сообщений и 15 Гб интернет-трафика  \n",
    "3. Стоимость услуг сверх тарифного пакета:  \n",
    "    - минута разговора: 3 рубля\n",
    "    - сообщение: 3 рубля\n",
    "    - 1 Гб интернет-трафика: 200 рублей\n",
    "\n",
    "**Тариф «Ультра»**  \n",
    "1. Ежемесячная плата: 1950 рублей\n",
    "2. Включено 3000 минут разговора, 1000 сообщений и 30 Гб интернет-трафика\n",
    "3. Стоимость услуг сверх тарифного пакета:\n",
    "    - минута разговора: 1 рубль\n",
    "    - сообщение: 1 рубль\n",
    "    - 1 Гб интернет-трафика: 150 рублей\n",
    "\n",
    "*Примечание:*  \n",
    "- *Секунды округляются до минут, а мегабайты — до гигабайт. Каждый звонок округляется отдельно: если он длился всего 1 секунду, будет засчитан как 1 минута.*  \n",
    "- *Для веб-трафика отдельные сессии не считаются. Вместо этого общая сумма за месяц округляется в бо́льшую сторону. Если абонент использует 1025 мегабайт в этом месяце, с него возьмут плату за 2 гигабайта.*"
   ]
  },
  {
   "cell_type": "markdown",
   "metadata": {},
   "source": [
    "**Цели исследования:**"
   ]
  },
  {
   "cell_type": "markdown",
   "metadata": {},
   "source": [
    "- проанализировать поведение клиентов, пользующихся тарифами \"Смарт\" и \"Ультра\", на выборке в 500 человек\n",
    "- определить, какой тариф для компании более прибыльный - \"Смарт\" или \"Ультра\"."
   ]
  },
  {
   "cell_type": "markdown",
   "metadata": {},
   "source": [
    "### Импортируем данные, изучим и подготовим их к анализу."
   ]
  },
  {
   "cell_type": "markdown",
   "metadata": {},
   "source": [
    "#### Импорт библиотек"
   ]
  },
  {
   "cell_type": "code",
   "execution_count": 1,
   "metadata": {},
   "outputs": [],
   "source": [
    "import pandas as pd\n",
    "import matplotlib.pyplot as plt\n",
    "import math\n",
    "import numpy as np\n",
    "from scipy import stats as st"
   ]
  },
  {
   "cell_type": "code",
   "execution_count": 2,
   "metadata": {},
   "outputs": [],
   "source": [
    "pd.options.display.float_format = '{:.2f}'.format"
   ]
  },
  {
   "cell_type": "code",
   "execution_count": 3,
   "metadata": {},
   "outputs": [],
   "source": [
    "import warnings\n",
    "\n",
    "warnings.filterwarnings('ignore')"
   ]
  },
  {
   "cell_type": "code",
   "execution_count": 4,
   "metadata": {},
   "outputs": [],
   "source": [
    "cal = pd.read_csv('calls.csv', sep=',')\n",
    "inet = pd.read_csv('internet.csv', index_col=0, sep=',')\n",
    "mes = pd.read_csv('messages.csv', sep=',')\n",
    "trf = pd.read_csv('tariffs.csv', sep=',')\n",
    "usr = pd.read_csv('users.csv', sep=',')"
   ]
  },
  {
   "cell_type": "code",
   "execution_count": 5,
   "metadata": {},
   "outputs": [],
   "source": [
    "# функция для обзора информации о каждом из датафреймов\n",
    "\n",
    "def inf(df):\n",
    "    display(df.info());\n",
    "    display(df.head());\n",
    "    print('Дубликатов:', df.duplicated().sum());"
   ]
  },
  {
   "cell_type": "markdown",
   "metadata": {},
   "source": [
    "#### Обзор данных"
   ]
  },
  {
   "cell_type": "markdown",
   "metadata": {},
   "source": [
    "##### cal - информация о звонках"
   ]
  },
  {
   "cell_type": "code",
   "execution_count": 6,
   "metadata": {},
   "outputs": [
    {
     "name": "stdout",
     "output_type": "stream",
     "text": [
      "<class 'pandas.core.frame.DataFrame'>\n",
      "RangeIndex: 202607 entries, 0 to 202606\n",
      "Data columns (total 4 columns):\n",
      " #   Column     Non-Null Count   Dtype  \n",
      "---  ------     --------------   -----  \n",
      " 0   id         202607 non-null  object \n",
      " 1   call_date  202607 non-null  object \n",
      " 2   duration   202607 non-null  float64\n",
      " 3   user_id    202607 non-null  int64  \n",
      "dtypes: float64(1), int64(1), object(2)\n",
      "memory usage: 6.2+ MB\n"
     ]
    },
    {
     "data": {
      "text/plain": [
       "None"
      ]
     },
     "metadata": {},
     "output_type": "display_data"
    },
    {
     "data": {
      "text/html": [
       "<div>\n",
       "<style scoped>\n",
       "    .dataframe tbody tr th:only-of-type {\n",
       "        vertical-align: middle;\n",
       "    }\n",
       "\n",
       "    .dataframe tbody tr th {\n",
       "        vertical-align: top;\n",
       "    }\n",
       "\n",
       "    .dataframe thead th {\n",
       "        text-align: right;\n",
       "    }\n",
       "</style>\n",
       "<table border=\"1\" class=\"dataframe\">\n",
       "  <thead>\n",
       "    <tr style=\"text-align: right;\">\n",
       "      <th></th>\n",
       "      <th>id</th>\n",
       "      <th>call_date</th>\n",
       "      <th>duration</th>\n",
       "      <th>user_id</th>\n",
       "    </tr>\n",
       "  </thead>\n",
       "  <tbody>\n",
       "    <tr>\n",
       "      <th>0</th>\n",
       "      <td>1000_0</td>\n",
       "      <td>2018-07-25</td>\n",
       "      <td>0.00</td>\n",
       "      <td>1000</td>\n",
       "    </tr>\n",
       "    <tr>\n",
       "      <th>1</th>\n",
       "      <td>1000_1</td>\n",
       "      <td>2018-08-17</td>\n",
       "      <td>0.00</td>\n",
       "      <td>1000</td>\n",
       "    </tr>\n",
       "    <tr>\n",
       "      <th>2</th>\n",
       "      <td>1000_2</td>\n",
       "      <td>2018-06-11</td>\n",
       "      <td>2.85</td>\n",
       "      <td>1000</td>\n",
       "    </tr>\n",
       "    <tr>\n",
       "      <th>3</th>\n",
       "      <td>1000_3</td>\n",
       "      <td>2018-09-21</td>\n",
       "      <td>13.80</td>\n",
       "      <td>1000</td>\n",
       "    </tr>\n",
       "    <tr>\n",
       "      <th>4</th>\n",
       "      <td>1000_4</td>\n",
       "      <td>2018-12-15</td>\n",
       "      <td>5.18</td>\n",
       "      <td>1000</td>\n",
       "    </tr>\n",
       "  </tbody>\n",
       "</table>\n",
       "</div>"
      ],
      "text/plain": [
       "       id   call_date  duration  user_id\n",
       "0  1000_0  2018-07-25      0.00     1000\n",
       "1  1000_1  2018-08-17      0.00     1000\n",
       "2  1000_2  2018-06-11      2.85     1000\n",
       "3  1000_3  2018-09-21     13.80     1000\n",
       "4  1000_4  2018-12-15      5.18     1000"
      ]
     },
     "metadata": {},
     "output_type": "display_data"
    },
    {
     "name": "stdout",
     "output_type": "stream",
     "text": [
      "Дубликатов: 0\n"
     ]
    }
   ],
   "source": [
    "inf(cal)"
   ]
  },
  {
   "cell_type": "markdown",
   "metadata": {},
   "source": [
    "##### inet - информация об интернет-трафике"
   ]
  },
  {
   "cell_type": "code",
   "execution_count": 7,
   "metadata": {},
   "outputs": [
    {
     "name": "stdout",
     "output_type": "stream",
     "text": [
      "<class 'pandas.core.frame.DataFrame'>\n",
      "Int64Index: 149396 entries, 0 to 149395\n",
      "Data columns (total 4 columns):\n",
      " #   Column        Non-Null Count   Dtype  \n",
      "---  ------        --------------   -----  \n",
      " 0   id            149396 non-null  object \n",
      " 1   mb_used       149396 non-null  float64\n",
      " 2   session_date  149396 non-null  object \n",
      " 3   user_id       149396 non-null  int64  \n",
      "dtypes: float64(1), int64(1), object(2)\n",
      "memory usage: 5.7+ MB\n"
     ]
    },
    {
     "data": {
      "text/plain": [
       "None"
      ]
     },
     "metadata": {},
     "output_type": "display_data"
    },
    {
     "data": {
      "text/html": [
       "<div>\n",
       "<style scoped>\n",
       "    .dataframe tbody tr th:only-of-type {\n",
       "        vertical-align: middle;\n",
       "    }\n",
       "\n",
       "    .dataframe tbody tr th {\n",
       "        vertical-align: top;\n",
       "    }\n",
       "\n",
       "    .dataframe thead th {\n",
       "        text-align: right;\n",
       "    }\n",
       "</style>\n",
       "<table border=\"1\" class=\"dataframe\">\n",
       "  <thead>\n",
       "    <tr style=\"text-align: right;\">\n",
       "      <th></th>\n",
       "      <th>id</th>\n",
       "      <th>mb_used</th>\n",
       "      <th>session_date</th>\n",
       "      <th>user_id</th>\n",
       "    </tr>\n",
       "  </thead>\n",
       "  <tbody>\n",
       "    <tr>\n",
       "      <th>0</th>\n",
       "      <td>1000_0</td>\n",
       "      <td>112.95</td>\n",
       "      <td>2018-11-25</td>\n",
       "      <td>1000</td>\n",
       "    </tr>\n",
       "    <tr>\n",
       "      <th>1</th>\n",
       "      <td>1000_1</td>\n",
       "      <td>1052.81</td>\n",
       "      <td>2018-09-07</td>\n",
       "      <td>1000</td>\n",
       "    </tr>\n",
       "    <tr>\n",
       "      <th>2</th>\n",
       "      <td>1000_2</td>\n",
       "      <td>1197.26</td>\n",
       "      <td>2018-06-25</td>\n",
       "      <td>1000</td>\n",
       "    </tr>\n",
       "    <tr>\n",
       "      <th>3</th>\n",
       "      <td>1000_3</td>\n",
       "      <td>550.27</td>\n",
       "      <td>2018-08-22</td>\n",
       "      <td>1000</td>\n",
       "    </tr>\n",
       "    <tr>\n",
       "      <th>4</th>\n",
       "      <td>1000_4</td>\n",
       "      <td>302.56</td>\n",
       "      <td>2018-09-24</td>\n",
       "      <td>1000</td>\n",
       "    </tr>\n",
       "  </tbody>\n",
       "</table>\n",
       "</div>"
      ],
      "text/plain": [
       "       id  mb_used session_date  user_id\n",
       "0  1000_0   112.95   2018-11-25     1000\n",
       "1  1000_1  1052.81   2018-09-07     1000\n",
       "2  1000_2  1197.26   2018-06-25     1000\n",
       "3  1000_3   550.27   2018-08-22     1000\n",
       "4  1000_4   302.56   2018-09-24     1000"
      ]
     },
     "metadata": {},
     "output_type": "display_data"
    },
    {
     "name": "stdout",
     "output_type": "stream",
     "text": [
      "Дубликатов: 0\n"
     ]
    }
   ],
   "source": [
    "inf(inet)"
   ]
  },
  {
   "cell_type": "markdown",
   "metadata": {},
   "source": [
    "##### mes - информация о сообщениях"
   ]
  },
  {
   "cell_type": "code",
   "execution_count": 8,
   "metadata": {
    "scrolled": false
   },
   "outputs": [
    {
     "name": "stdout",
     "output_type": "stream",
     "text": [
      "<class 'pandas.core.frame.DataFrame'>\n",
      "RangeIndex: 123036 entries, 0 to 123035\n",
      "Data columns (total 3 columns):\n",
      " #   Column        Non-Null Count   Dtype \n",
      "---  ------        --------------   ----- \n",
      " 0   id            123036 non-null  object\n",
      " 1   message_date  123036 non-null  object\n",
      " 2   user_id       123036 non-null  int64 \n",
      "dtypes: int64(1), object(2)\n",
      "memory usage: 2.8+ MB\n"
     ]
    },
    {
     "data": {
      "text/plain": [
       "None"
      ]
     },
     "metadata": {},
     "output_type": "display_data"
    },
    {
     "data": {
      "text/html": [
       "<div>\n",
       "<style scoped>\n",
       "    .dataframe tbody tr th:only-of-type {\n",
       "        vertical-align: middle;\n",
       "    }\n",
       "\n",
       "    .dataframe tbody tr th {\n",
       "        vertical-align: top;\n",
       "    }\n",
       "\n",
       "    .dataframe thead th {\n",
       "        text-align: right;\n",
       "    }\n",
       "</style>\n",
       "<table border=\"1\" class=\"dataframe\">\n",
       "  <thead>\n",
       "    <tr style=\"text-align: right;\">\n",
       "      <th></th>\n",
       "      <th>id</th>\n",
       "      <th>message_date</th>\n",
       "      <th>user_id</th>\n",
       "    </tr>\n",
       "  </thead>\n",
       "  <tbody>\n",
       "    <tr>\n",
       "      <th>0</th>\n",
       "      <td>1000_0</td>\n",
       "      <td>2018-06-27</td>\n",
       "      <td>1000</td>\n",
       "    </tr>\n",
       "    <tr>\n",
       "      <th>1</th>\n",
       "      <td>1000_1</td>\n",
       "      <td>2018-10-08</td>\n",
       "      <td>1000</td>\n",
       "    </tr>\n",
       "    <tr>\n",
       "      <th>2</th>\n",
       "      <td>1000_2</td>\n",
       "      <td>2018-08-04</td>\n",
       "      <td>1000</td>\n",
       "    </tr>\n",
       "    <tr>\n",
       "      <th>3</th>\n",
       "      <td>1000_3</td>\n",
       "      <td>2018-06-16</td>\n",
       "      <td>1000</td>\n",
       "    </tr>\n",
       "    <tr>\n",
       "      <th>4</th>\n",
       "      <td>1000_4</td>\n",
       "      <td>2018-12-05</td>\n",
       "      <td>1000</td>\n",
       "    </tr>\n",
       "  </tbody>\n",
       "</table>\n",
       "</div>"
      ],
      "text/plain": [
       "       id message_date  user_id\n",
       "0  1000_0   2018-06-27     1000\n",
       "1  1000_1   2018-10-08     1000\n",
       "2  1000_2   2018-08-04     1000\n",
       "3  1000_3   2018-06-16     1000\n",
       "4  1000_4   2018-12-05     1000"
      ]
     },
     "metadata": {},
     "output_type": "display_data"
    },
    {
     "name": "stdout",
     "output_type": "stream",
     "text": [
      "Дубликатов: 0\n"
     ]
    }
   ],
   "source": [
    "inf(mes)"
   ]
  },
  {
   "cell_type": "markdown",
   "metadata": {},
   "source": [
    "##### trf - информация о тарифах"
   ]
  },
  {
   "cell_type": "code",
   "execution_count": 9,
   "metadata": {},
   "outputs": [
    {
     "name": "stdout",
     "output_type": "stream",
     "text": [
      "<class 'pandas.core.frame.DataFrame'>\n",
      "RangeIndex: 2 entries, 0 to 1\n",
      "Data columns (total 8 columns):\n",
      " #   Column                 Non-Null Count  Dtype \n",
      "---  ------                 --------------  ----- \n",
      " 0   messages_included      2 non-null      int64 \n",
      " 1   mb_per_month_included  2 non-null      int64 \n",
      " 2   minutes_included       2 non-null      int64 \n",
      " 3   rub_monthly_fee        2 non-null      int64 \n",
      " 4   rub_per_gb             2 non-null      int64 \n",
      " 5   rub_per_message        2 non-null      int64 \n",
      " 6   rub_per_minute         2 non-null      int64 \n",
      " 7   tariff_name            2 non-null      object\n",
      "dtypes: int64(7), object(1)\n",
      "memory usage: 256.0+ bytes\n"
     ]
    },
    {
     "data": {
      "text/plain": [
       "None"
      ]
     },
     "metadata": {},
     "output_type": "display_data"
    },
    {
     "data": {
      "text/html": [
       "<div>\n",
       "<style scoped>\n",
       "    .dataframe tbody tr th:only-of-type {\n",
       "        vertical-align: middle;\n",
       "    }\n",
       "\n",
       "    .dataframe tbody tr th {\n",
       "        vertical-align: top;\n",
       "    }\n",
       "\n",
       "    .dataframe thead th {\n",
       "        text-align: right;\n",
       "    }\n",
       "</style>\n",
       "<table border=\"1\" class=\"dataframe\">\n",
       "  <thead>\n",
       "    <tr style=\"text-align: right;\">\n",
       "      <th></th>\n",
       "      <th>messages_included</th>\n",
       "      <th>mb_per_month_included</th>\n",
       "      <th>minutes_included</th>\n",
       "      <th>rub_monthly_fee</th>\n",
       "      <th>rub_per_gb</th>\n",
       "      <th>rub_per_message</th>\n",
       "      <th>rub_per_minute</th>\n",
       "      <th>tariff_name</th>\n",
       "    </tr>\n",
       "  </thead>\n",
       "  <tbody>\n",
       "    <tr>\n",
       "      <th>0</th>\n",
       "      <td>50</td>\n",
       "      <td>15360</td>\n",
       "      <td>500</td>\n",
       "      <td>550</td>\n",
       "      <td>200</td>\n",
       "      <td>3</td>\n",
       "      <td>3</td>\n",
       "      <td>smart</td>\n",
       "    </tr>\n",
       "    <tr>\n",
       "      <th>1</th>\n",
       "      <td>1000</td>\n",
       "      <td>30720</td>\n",
       "      <td>3000</td>\n",
       "      <td>1950</td>\n",
       "      <td>150</td>\n",
       "      <td>1</td>\n",
       "      <td>1</td>\n",
       "      <td>ultra</td>\n",
       "    </tr>\n",
       "  </tbody>\n",
       "</table>\n",
       "</div>"
      ],
      "text/plain": [
       "   messages_included  mb_per_month_included  minutes_included  \\\n",
       "0                 50                  15360               500   \n",
       "1               1000                  30720              3000   \n",
       "\n",
       "   rub_monthly_fee  rub_per_gb  rub_per_message  rub_per_minute tariff_name  \n",
       "0              550         200                3               3       smart  \n",
       "1             1950         150                1               1       ultra  "
      ]
     },
     "metadata": {},
     "output_type": "display_data"
    },
    {
     "name": "stdout",
     "output_type": "stream",
     "text": [
      "Дубликатов: 0\n"
     ]
    }
   ],
   "source": [
    "inf(trf)"
   ]
  },
  {
   "cell_type": "markdown",
   "metadata": {},
   "source": [
    "##### usr - информация о пользователях"
   ]
  },
  {
   "cell_type": "code",
   "execution_count": 10,
   "metadata": {},
   "outputs": [
    {
     "name": "stdout",
     "output_type": "stream",
     "text": [
      "<class 'pandas.core.frame.DataFrame'>\n",
      "RangeIndex: 500 entries, 0 to 499\n",
      "Data columns (total 8 columns):\n",
      " #   Column      Non-Null Count  Dtype \n",
      "---  ------      --------------  ----- \n",
      " 0   user_id     500 non-null    int64 \n",
      " 1   age         500 non-null    int64 \n",
      " 2   churn_date  38 non-null     object\n",
      " 3   city        500 non-null    object\n",
      " 4   first_name  500 non-null    object\n",
      " 5   last_name   500 non-null    object\n",
      " 6   reg_date    500 non-null    object\n",
      " 7   tariff      500 non-null    object\n",
      "dtypes: int64(2), object(6)\n",
      "memory usage: 31.4+ KB\n"
     ]
    },
    {
     "data": {
      "text/plain": [
       "None"
      ]
     },
     "metadata": {},
     "output_type": "display_data"
    },
    {
     "data": {
      "text/html": [
       "<div>\n",
       "<style scoped>\n",
       "    .dataframe tbody tr th:only-of-type {\n",
       "        vertical-align: middle;\n",
       "    }\n",
       "\n",
       "    .dataframe tbody tr th {\n",
       "        vertical-align: top;\n",
       "    }\n",
       "\n",
       "    .dataframe thead th {\n",
       "        text-align: right;\n",
       "    }\n",
       "</style>\n",
       "<table border=\"1\" class=\"dataframe\">\n",
       "  <thead>\n",
       "    <tr style=\"text-align: right;\">\n",
       "      <th></th>\n",
       "      <th>user_id</th>\n",
       "      <th>age</th>\n",
       "      <th>churn_date</th>\n",
       "      <th>city</th>\n",
       "      <th>first_name</th>\n",
       "      <th>last_name</th>\n",
       "      <th>reg_date</th>\n",
       "      <th>tariff</th>\n",
       "    </tr>\n",
       "  </thead>\n",
       "  <tbody>\n",
       "    <tr>\n",
       "      <th>0</th>\n",
       "      <td>1000</td>\n",
       "      <td>52</td>\n",
       "      <td>NaN</td>\n",
       "      <td>Краснодар</td>\n",
       "      <td>Рафаил</td>\n",
       "      <td>Верещагин</td>\n",
       "      <td>2018-05-25</td>\n",
       "      <td>ultra</td>\n",
       "    </tr>\n",
       "    <tr>\n",
       "      <th>1</th>\n",
       "      <td>1001</td>\n",
       "      <td>41</td>\n",
       "      <td>NaN</td>\n",
       "      <td>Москва</td>\n",
       "      <td>Иван</td>\n",
       "      <td>Ежов</td>\n",
       "      <td>2018-11-01</td>\n",
       "      <td>smart</td>\n",
       "    </tr>\n",
       "    <tr>\n",
       "      <th>2</th>\n",
       "      <td>1002</td>\n",
       "      <td>59</td>\n",
       "      <td>NaN</td>\n",
       "      <td>Стерлитамак</td>\n",
       "      <td>Евгений</td>\n",
       "      <td>Абрамович</td>\n",
       "      <td>2018-06-17</td>\n",
       "      <td>smart</td>\n",
       "    </tr>\n",
       "    <tr>\n",
       "      <th>3</th>\n",
       "      <td>1003</td>\n",
       "      <td>23</td>\n",
       "      <td>NaN</td>\n",
       "      <td>Москва</td>\n",
       "      <td>Белла</td>\n",
       "      <td>Белякова</td>\n",
       "      <td>2018-08-17</td>\n",
       "      <td>ultra</td>\n",
       "    </tr>\n",
       "    <tr>\n",
       "      <th>4</th>\n",
       "      <td>1004</td>\n",
       "      <td>68</td>\n",
       "      <td>NaN</td>\n",
       "      <td>Новокузнецк</td>\n",
       "      <td>Татьяна</td>\n",
       "      <td>Авдеенко</td>\n",
       "      <td>2018-05-14</td>\n",
       "      <td>ultra</td>\n",
       "    </tr>\n",
       "  </tbody>\n",
       "</table>\n",
       "</div>"
      ],
      "text/plain": [
       "   user_id  age churn_date         city first_name  last_name    reg_date  \\\n",
       "0     1000   52        NaN    Краснодар     Рафаил  Верещагин  2018-05-25   \n",
       "1     1001   41        NaN       Москва       Иван       Ежов  2018-11-01   \n",
       "2     1002   59        NaN  Стерлитамак    Евгений  Абрамович  2018-06-17   \n",
       "3     1003   23        NaN       Москва      Белла   Белякова  2018-08-17   \n",
       "4     1004   68        NaN  Новокузнецк    Татьяна   Авдеенко  2018-05-14   \n",
       "\n",
       "  tariff  \n",
       "0  ultra  \n",
       "1  smart  \n",
       "2  smart  \n",
       "3  ultra  \n",
       "4  ultra  "
      ]
     },
     "metadata": {},
     "output_type": "display_data"
    },
    {
     "name": "stdout",
     "output_type": "stream",
     "text": [
      "Дубликатов: 0\n"
     ]
    }
   ],
   "source": [
    "inf(usr)"
   ]
  },
  {
   "cell_type": "markdown",
   "metadata": {},
   "source": [
    "Построим гистограмму распределения объёма интернет-траффика на предмет проверки аномалий"
   ]
  },
  {
   "cell_type": "code",
   "execution_count": 11,
   "metadata": {},
   "outputs": [
    {
     "data": {
      "image/png": "[encoded data removed]",
      "text/plain": [
       "<Figure size 1080x360 with 1 Axes>"
      ]
     },
     "metadata": {
      "needs_background": "light"
     },
     "output_type": "display_data"
    }
   ],
   "source": [
    "inet.pivot_table(index='session_date', values='mb_used', aggfunc='sum')\\\n",
    "    .hist(bins=50, figsize=(15, 5))\n",
    "plt.title('Распределение объёма интернет-трафиика', fontsize=15)\n",
    "plt.ylabel('')\n",
    "plt.xlabel('объем интернет-трафиика, Mб', fontsize=12)\n",
    "plt.show;"
   ]
  },
  {
   "cell_type": "markdown",
   "metadata": {},
   "source": [
    "Имеются выбивающиеся значения за пределами отметки в 320000 Мб. Посмотрим, в какие даты был такой всплеск пользования интернетом"
   ]
  },
  {
   "cell_type": "code",
   "execution_count": 12,
   "metadata": {},
   "outputs": [
    {
     "data": {
      "text/html": [
       "<div>\n",
       "<style scoped>\n",
       "    .dataframe tbody tr th:only-of-type {\n",
       "        vertical-align: middle;\n",
       "    }\n",
       "\n",
       "    .dataframe tbody tr th {\n",
       "        vertical-align: top;\n",
       "    }\n",
       "\n",
       "    .dataframe thead th {\n",
       "        text-align: right;\n",
       "    }\n",
       "</style>\n",
       "<table border=\"1\" class=\"dataframe\">\n",
       "  <thead>\n",
       "    <tr style=\"text-align: right;\">\n",
       "      <th></th>\n",
       "      <th>mb_used</th>\n",
       "    </tr>\n",
       "    <tr>\n",
       "      <th>session_date</th>\n",
       "      <th></th>\n",
       "    </tr>\n",
       "  </thead>\n",
       "  <tbody>\n",
       "    <tr>\n",
       "      <th>2018-12-31</th>\n",
       "      <td>392106.01</td>\n",
       "    </tr>\n",
       "    <tr>\n",
       "      <th>2018-12-25</th>\n",
       "      <td>324525.09</td>\n",
       "    </tr>\n",
       "  </tbody>\n",
       "</table>\n",
       "</div>"
      ],
      "text/plain": [
       "               mb_used\n",
       "session_date          \n",
       "2018-12-31   392106.01\n",
       "2018-12-25   324525.09"
      ]
     },
     "execution_count": 12,
     "metadata": {},
     "output_type": "execute_result"
    }
   ],
   "source": [
    "inet.pivot_table(index='session_date', values='mb_used', aggfunc='sum')\\\n",
    "    .query('mb_used > 320000').sort_values(by='mb_used', ascending=False)"
   ]
  },
  {
   "cell_type": "markdown",
   "metadata": {},
   "source": [
    "Как видим, 25 и 31 декабря был всплеск пользования интернетом, на эти две даты приходятся максимальные объёмы интернет-трафика. С одной стороны, очевидно, что в праздничные дни, особенно в новогодние праздники, все активно поздравляют друг друга, с другой - 31 декабря люди, как правило, отмечают праздник в оффлайне, хотя и в большом количестве отправляют поздравления друг другу в соц.сетях.  \n",
    "При этом на отрезке между 320000 и 380000 Мб наблюдается резкий обрыв данных - возможно, в эти даты происходили обрывы связи - такое возможно из-за высокой нагрузки на сети в праздничные дни."
   ]
  },
  {
   "cell_type": "markdown",
   "metadata": {},
   "source": [
    "#### Вывод"
   ]
  },
  {
   "cell_type": "markdown",
   "metadata": {},
   "source": [
    "Для анализа представлены 5 различных данафреймов с информацией о звонках, интернет-трафике, сообщениях, тарифах, а также о самих пользователях.  \n",
    "\n",
    "Дубликатов не обнаружено. Пропусков в данных нет, помимо столбца churn_date, но там это оправдано, т.к. если значение пропущено, то тариф ещё действовал на момент выгрузки данных.  \n",
    "\n",
    "В датафрейме с отправленными пользователями сообщениями отсутствует количество сообщений, из-за чего таблица становится неинформативной. Можно предположить, что каждой строке соответствует одно отправленное сообщение, тогда количество сообщений можно будет вывести методом count.  \n",
    "\n",
    "Также в датафрейме с интернет-трафиком имеются аномально большие значения в использованных мегабайтах 25 и 31 декабря. При этом на отрезке между 320000 и 380000 Мб наблюдается резкий обрыв данных - возможно, в эти даты происходили обрывы связи - такое возможно из-за высокой нагрузки на сети в праздничные дни.\n",
    "\n",
    "Данные представлены по большей части корректные, тем не менее необходима минимальная предобработка для последующего анализа:  \n",
    "- заменить тип данных в столбцах с датами на datetime \n"
   ]
  },
  {
   "cell_type": "markdown",
   "metadata": {},
   "source": [
    "#### Подготовка данных"
   ]
  },
  {
   "cell_type": "markdown",
   "metadata": {},
   "source": [
    "Заменим типы данных в столбцах с датами с object на datetime"
   ]
  },
  {
   "cell_type": "code",
   "execution_count": 13,
   "metadata": {},
   "outputs": [
    {
     "data": {
      "text/plain": [
       "id                   object\n",
       "call_date    datetime64[ns]\n",
       "duration            float64\n",
       "user_id               int64\n",
       "dtype: object"
      ]
     },
     "metadata": {},
     "output_type": "display_data"
    },
    {
     "data": {
      "text/plain": [
       "id                      object\n",
       "mb_used                float64\n",
       "session_date    datetime64[ns]\n",
       "user_id                  int64\n",
       "dtype: object"
      ]
     },
     "metadata": {},
     "output_type": "display_data"
    },
    {
     "data": {
      "text/plain": [
       "id                      object\n",
       "message_date    datetime64[ns]\n",
       "user_id                  int64\n",
       "dtype: object"
      ]
     },
     "metadata": {},
     "output_type": "display_data"
    },
    {
     "data": {
      "text/plain": [
       "user_id                int64\n",
       "age                    int64\n",
       "churn_date    datetime64[ns]\n",
       "city                  object\n",
       "first_name            object\n",
       "last_name             object\n",
       "reg_date      datetime64[ns]\n",
       "tariff                object\n",
       "dtype: object"
      ]
     },
     "metadata": {},
     "output_type": "display_data"
    }
   ],
   "source": [
    "cal['call_date'] = pd.to_datetime(cal['call_date'], format='%Y-%m-%d')\n",
    "inet['session_date'] = pd.to_datetime(inet['session_date'], format='%Y-%m-%d')\n",
    "mes['message_date'] = pd.to_datetime(mes['message_date'], format='%Y-%m-%d')\n",
    "usr['reg_date'] = pd.to_datetime(usr['reg_date'], format='%Y-%m-%d')\n",
    "usr['churn_date'] = pd.to_datetime(usr['churn_date'], format='%Y-%m-%d')\n",
    "\n",
    "display(cal.dtypes)\n",
    "display(inet.dtypes)\n",
    "display(mes.dtypes)\n",
    "display(usr.dtypes)"
   ]
  },
  {
   "cell_type": "markdown",
   "metadata": {},
   "source": [
    "В каждую из таблиц cal, inet и mes добавим столбец с месяцем для последующих помесячных расчётов"
   ]
  },
  {
   "cell_type": "code",
   "execution_count": 14,
   "metadata": {},
   "outputs": [],
   "source": [
    "cal['month'] = cal['call_date'].dt.month\n",
    "inet['month'] = inet['session_date'].dt.month\n",
    "mes['month'] = mes['message_date'].dt.month"
   ]
  },
  {
   "cell_type": "markdown",
   "metadata": {},
   "source": [
    "Также в таблицe cal выделим столбец с количеством сделанных звонков, задав единичное значение в нем каждой строке. Впоследствие одновременно с группировкой в данном столбце подсчитаются количество звонков помесячно"
   ]
  },
  {
   "cell_type": "code",
   "execution_count": 15,
   "metadata": {},
   "outputs": [
    {
     "data": {
      "text/html": [
       "<div>\n",
       "<style scoped>\n",
       "    .dataframe tbody tr th:only-of-type {\n",
       "        vertical-align: middle;\n",
       "    }\n",
       "\n",
       "    .dataframe tbody tr th {\n",
       "        vertical-align: top;\n",
       "    }\n",
       "\n",
       "    .dataframe thead th {\n",
       "        text-align: right;\n",
       "    }\n",
       "</style>\n",
       "<table border=\"1\" class=\"dataframe\">\n",
       "  <thead>\n",
       "    <tr style=\"text-align: right;\">\n",
       "      <th></th>\n",
       "      <th>id</th>\n",
       "      <th>call_date</th>\n",
       "      <th>duration</th>\n",
       "      <th>user_id</th>\n",
       "      <th>month</th>\n",
       "      <th>calls_count</th>\n",
       "    </tr>\n",
       "  </thead>\n",
       "  <tbody>\n",
       "    <tr>\n",
       "      <th>0</th>\n",
       "      <td>1000_0</td>\n",
       "      <td>2018-07-25</td>\n",
       "      <td>0.00</td>\n",
       "      <td>1000</td>\n",
       "      <td>7</td>\n",
       "      <td>1</td>\n",
       "    </tr>\n",
       "    <tr>\n",
       "      <th>1</th>\n",
       "      <td>1000_1</td>\n",
       "      <td>2018-08-17</td>\n",
       "      <td>0.00</td>\n",
       "      <td>1000</td>\n",
       "      <td>8</td>\n",
       "      <td>1</td>\n",
       "    </tr>\n",
       "    <tr>\n",
       "      <th>2</th>\n",
       "      <td>1000_2</td>\n",
       "      <td>2018-06-11</td>\n",
       "      <td>2.85</td>\n",
       "      <td>1000</td>\n",
       "      <td>6</td>\n",
       "      <td>1</td>\n",
       "    </tr>\n",
       "    <tr>\n",
       "      <th>3</th>\n",
       "      <td>1000_3</td>\n",
       "      <td>2018-09-21</td>\n",
       "      <td>13.80</td>\n",
       "      <td>1000</td>\n",
       "      <td>9</td>\n",
       "      <td>1</td>\n",
       "    </tr>\n",
       "    <tr>\n",
       "      <th>4</th>\n",
       "      <td>1000_4</td>\n",
       "      <td>2018-12-15</td>\n",
       "      <td>5.18</td>\n",
       "      <td>1000</td>\n",
       "      <td>12</td>\n",
       "      <td>1</td>\n",
       "    </tr>\n",
       "  </tbody>\n",
       "</table>\n",
       "</div>"
      ],
      "text/plain": [
       "       id  call_date  duration  user_id  month  calls_count\n",
       "0  1000_0 2018-07-25      0.00     1000      7            1\n",
       "1  1000_1 2018-08-17      0.00     1000      8            1\n",
       "2  1000_2 2018-06-11      2.85     1000      6            1\n",
       "3  1000_3 2018-09-21     13.80     1000      9            1\n",
       "4  1000_4 2018-12-15      5.18     1000     12            1"
      ]
     },
     "execution_count": 15,
     "metadata": {},
     "output_type": "execute_result"
    }
   ],
   "source": [
    "cal['calls_count'] = 1\n",
    "cal.head()"
   ]
  },
  {
   "cell_type": "markdown",
   "metadata": {},
   "source": [
    "##### Округление звонков"
   ]
  },
  {
   "cell_type": "markdown",
   "metadata": {},
   "source": [
    "Произведём округление секунд до минут, т.е. каждый звонок отдельно, в большую сторону"
   ]
  },
  {
   "cell_type": "code",
   "execution_count": 16,
   "metadata": {},
   "outputs": [
    {
     "data": {
      "text/html": [
       "<div>\n",
       "<style scoped>\n",
       "    .dataframe tbody tr th:only-of-type {\n",
       "        vertical-align: middle;\n",
       "    }\n",
       "\n",
       "    .dataframe tbody tr th {\n",
       "        vertical-align: top;\n",
       "    }\n",
       "\n",
       "    .dataframe thead th {\n",
       "        text-align: right;\n",
       "    }\n",
       "</style>\n",
       "<table border=\"1\" class=\"dataframe\">\n",
       "  <thead>\n",
       "    <tr style=\"text-align: right;\">\n",
       "      <th></th>\n",
       "      <th>id</th>\n",
       "      <th>call_date</th>\n",
       "      <th>duration</th>\n",
       "      <th>user_id</th>\n",
       "      <th>month</th>\n",
       "      <th>calls_count</th>\n",
       "    </tr>\n",
       "  </thead>\n",
       "  <tbody>\n",
       "    <tr>\n",
       "      <th>202602</th>\n",
       "      <td>1499_215</td>\n",
       "      <td>2018-12-26</td>\n",
       "      <td>1.00</td>\n",
       "      <td>1499</td>\n",
       "      <td>12</td>\n",
       "      <td>1</td>\n",
       "    </tr>\n",
       "    <tr>\n",
       "      <th>202603</th>\n",
       "      <td>1499_216</td>\n",
       "      <td>2018-10-18</td>\n",
       "      <td>19.00</td>\n",
       "      <td>1499</td>\n",
       "      <td>10</td>\n",
       "      <td>1</td>\n",
       "    </tr>\n",
       "    <tr>\n",
       "      <th>202604</th>\n",
       "      <td>1499_217</td>\n",
       "      <td>2018-11-10</td>\n",
       "      <td>11.00</td>\n",
       "      <td>1499</td>\n",
       "      <td>11</td>\n",
       "      <td>1</td>\n",
       "    </tr>\n",
       "    <tr>\n",
       "      <th>202605</th>\n",
       "      <td>1499_218</td>\n",
       "      <td>2018-10-06</td>\n",
       "      <td>5.00</td>\n",
       "      <td>1499</td>\n",
       "      <td>10</td>\n",
       "      <td>1</td>\n",
       "    </tr>\n",
       "    <tr>\n",
       "      <th>202606</th>\n",
       "      <td>1499_219</td>\n",
       "      <td>2018-12-14</td>\n",
       "      <td>20.00</td>\n",
       "      <td>1499</td>\n",
       "      <td>12</td>\n",
       "      <td>1</td>\n",
       "    </tr>\n",
       "  </tbody>\n",
       "</table>\n",
       "</div>"
      ],
      "text/plain": [
       "              id  call_date  duration  user_id  month  calls_count\n",
       "202602  1499_215 2018-12-26      1.00     1499     12            1\n",
       "202603  1499_216 2018-10-18     19.00     1499     10            1\n",
       "202604  1499_217 2018-11-10     11.00     1499     11            1\n",
       "202605  1499_218 2018-10-06      5.00     1499     10            1\n",
       "202606  1499_219 2018-12-14     20.00     1499     12            1"
      ]
     },
     "execution_count": 16,
     "metadata": {},
     "output_type": "execute_result"
    }
   ],
   "source": [
    "cal['duration'] = np.ceil(cal['duration'])\n",
    "cal.tail()"
   ]
  },
  {
   "cell_type": "markdown",
   "metadata": {},
   "source": [
    "Сгруппируем данные в таблицах cal, inet по user_id и месяцу и посчитаем количество сообщений и интернет-трафика помесячно"
   ]
  },
  {
   "cell_type": "code",
   "execution_count": 17,
   "metadata": {},
   "outputs": [],
   "source": [
    "cal_group = cal.groupby(['user_id', 'month']).sum().reset_index()\n",
    "inet_group = inet.groupby(['user_id', 'month']).sum().reset_index()"
   ]
  },
  {
   "cell_type": "code",
   "execution_count": 18,
   "metadata": {},
   "outputs": [
    {
     "data": {
      "text/html": [
       "<div>\n",
       "<style scoped>\n",
       "    .dataframe tbody tr th:only-of-type {\n",
       "        vertical-align: middle;\n",
       "    }\n",
       "\n",
       "    .dataframe tbody tr th {\n",
       "        vertical-align: top;\n",
       "    }\n",
       "\n",
       "    .dataframe thead th {\n",
       "        text-align: right;\n",
       "    }\n",
       "</style>\n",
       "<table border=\"1\" class=\"dataframe\">\n",
       "  <thead>\n",
       "    <tr style=\"text-align: right;\">\n",
       "      <th></th>\n",
       "      <th>user_id</th>\n",
       "      <th>month</th>\n",
       "      <th>duration</th>\n",
       "      <th>calls_count</th>\n",
       "    </tr>\n",
       "  </thead>\n",
       "  <tbody>\n",
       "    <tr>\n",
       "      <th>0</th>\n",
       "      <td>1000</td>\n",
       "      <td>5</td>\n",
       "      <td>159.00</td>\n",
       "      <td>22</td>\n",
       "    </tr>\n",
       "    <tr>\n",
       "      <th>1</th>\n",
       "      <td>1000</td>\n",
       "      <td>6</td>\n",
       "      <td>172.00</td>\n",
       "      <td>43</td>\n",
       "    </tr>\n",
       "    <tr>\n",
       "      <th>2</th>\n",
       "      <td>1000</td>\n",
       "      <td>7</td>\n",
       "      <td>340.00</td>\n",
       "      <td>47</td>\n",
       "    </tr>\n",
       "    <tr>\n",
       "      <th>3</th>\n",
       "      <td>1000</td>\n",
       "      <td>8</td>\n",
       "      <td>408.00</td>\n",
       "      <td>52</td>\n",
       "    </tr>\n",
       "    <tr>\n",
       "      <th>4</th>\n",
       "      <td>1000</td>\n",
       "      <td>9</td>\n",
       "      <td>466.00</td>\n",
       "      <td>58</td>\n",
       "    </tr>\n",
       "  </tbody>\n",
       "</table>\n",
       "</div>"
      ],
      "text/plain": [
       "   user_id  month  duration  calls_count\n",
       "0     1000      5    159.00           22\n",
       "1     1000      6    172.00           43\n",
       "2     1000      7    340.00           47\n",
       "3     1000      8    408.00           52\n",
       "4     1000      9    466.00           58"
      ]
     },
     "execution_count": 18,
     "metadata": {},
     "output_type": "execute_result"
    }
   ],
   "source": [
    "cal_group.head()"
   ]
  },
  {
   "cell_type": "markdown",
   "metadata": {},
   "source": [
    "В сгруппированном помесячно датафрейме переведём мегабайты в гигабайты и округлим их в большую сторону"
   ]
  },
  {
   "cell_type": "code",
   "execution_count": 19,
   "metadata": {},
   "outputs": [
    {
     "data": {
      "text/html": [
       "<div>\n",
       "<style scoped>\n",
       "    .dataframe tbody tr th:only-of-type {\n",
       "        vertical-align: middle;\n",
       "    }\n",
       "\n",
       "    .dataframe tbody tr th {\n",
       "        vertical-align: top;\n",
       "    }\n",
       "\n",
       "    .dataframe thead th {\n",
       "        text-align: right;\n",
       "    }\n",
       "</style>\n",
       "<table border=\"1\" class=\"dataframe\">\n",
       "  <thead>\n",
       "    <tr style=\"text-align: right;\">\n",
       "      <th></th>\n",
       "      <th>user_id</th>\n",
       "      <th>month</th>\n",
       "      <th>mb_used</th>\n",
       "      <th>gb_used</th>\n",
       "    </tr>\n",
       "  </thead>\n",
       "  <tbody>\n",
       "    <tr>\n",
       "      <th>0</th>\n",
       "      <td>1000</td>\n",
       "      <td>5</td>\n",
       "      <td>2253.49</td>\n",
       "      <td>2.20</td>\n",
       "    </tr>\n",
       "    <tr>\n",
       "      <th>1</th>\n",
       "      <td>1000</td>\n",
       "      <td>6</td>\n",
       "      <td>23233.77</td>\n",
       "      <td>22.69</td>\n",
       "    </tr>\n",
       "    <tr>\n",
       "      <th>2</th>\n",
       "      <td>1000</td>\n",
       "      <td>7</td>\n",
       "      <td>14003.64</td>\n",
       "      <td>13.68</td>\n",
       "    </tr>\n",
       "    <tr>\n",
       "      <th>3</th>\n",
       "      <td>1000</td>\n",
       "      <td>8</td>\n",
       "      <td>14055.93</td>\n",
       "      <td>13.73</td>\n",
       "    </tr>\n",
       "    <tr>\n",
       "      <th>4</th>\n",
       "      <td>1000</td>\n",
       "      <td>9</td>\n",
       "      <td>14568.91</td>\n",
       "      <td>14.23</td>\n",
       "    </tr>\n",
       "  </tbody>\n",
       "</table>\n",
       "</div>"
      ],
      "text/plain": [
       "   user_id  month  mb_used  gb_used\n",
       "0     1000      5  2253.49     2.20\n",
       "1     1000      6 23233.77    22.69\n",
       "2     1000      7 14003.64    13.68\n",
       "3     1000      8 14055.93    13.73\n",
       "4     1000      9 14568.91    14.23"
      ]
     },
     "execution_count": 19,
     "metadata": {},
     "output_type": "execute_result"
    }
   ],
   "source": [
    "inet_group['gb_used'] = inet_group['mb_used'] / 1024\n",
    "\n",
    "inet_group.head()"
   ]
  },
  {
   "cell_type": "code",
   "execution_count": 20,
   "metadata": {
    "scrolled": false
   },
   "outputs": [
    {
     "data": {
      "text/html": [
       "<div>\n",
       "<style scoped>\n",
       "    .dataframe tbody tr th:only-of-type {\n",
       "        vertical-align: middle;\n",
       "    }\n",
       "\n",
       "    .dataframe tbody tr th {\n",
       "        vertical-align: top;\n",
       "    }\n",
       "\n",
       "    .dataframe thead th {\n",
       "        text-align: right;\n",
       "    }\n",
       "</style>\n",
       "<table border=\"1\" class=\"dataframe\">\n",
       "  <thead>\n",
       "    <tr style=\"text-align: right;\">\n",
       "      <th></th>\n",
       "      <th>user_id</th>\n",
       "      <th>month</th>\n",
       "      <th>mb_used</th>\n",
       "      <th>gb_used</th>\n",
       "    </tr>\n",
       "  </thead>\n",
       "  <tbody>\n",
       "    <tr>\n",
       "      <th>0</th>\n",
       "      <td>1000</td>\n",
       "      <td>5</td>\n",
       "      <td>2253.49</td>\n",
       "      <td>3.00</td>\n",
       "    </tr>\n",
       "    <tr>\n",
       "      <th>1</th>\n",
       "      <td>1000</td>\n",
       "      <td>6</td>\n",
       "      <td>23233.77</td>\n",
       "      <td>23.00</td>\n",
       "    </tr>\n",
       "    <tr>\n",
       "      <th>2</th>\n",
       "      <td>1000</td>\n",
       "      <td>7</td>\n",
       "      <td>14003.64</td>\n",
       "      <td>14.00</td>\n",
       "    </tr>\n",
       "    <tr>\n",
       "      <th>3</th>\n",
       "      <td>1000</td>\n",
       "      <td>8</td>\n",
       "      <td>14055.93</td>\n",
       "      <td>14.00</td>\n",
       "    </tr>\n",
       "    <tr>\n",
       "      <th>4</th>\n",
       "      <td>1000</td>\n",
       "      <td>9</td>\n",
       "      <td>14568.91</td>\n",
       "      <td>15.00</td>\n",
       "    </tr>\n",
       "  </tbody>\n",
       "</table>\n",
       "</div>"
      ],
      "text/plain": [
       "   user_id  month  mb_used  gb_used\n",
       "0     1000      5  2253.49     3.00\n",
       "1     1000      6 23233.77    23.00\n",
       "2     1000      7 14003.64    14.00\n",
       "3     1000      8 14055.93    14.00\n",
       "4     1000      9 14568.91    15.00"
      ]
     },
     "execution_count": 20,
     "metadata": {},
     "output_type": "execute_result"
    }
   ],
   "source": [
    "inet_group['gb_used'] = inet_group['gb_used'].apply(np.ceil)\n",
    "inet_group.head()"
   ]
  },
  {
   "cell_type": "markdown",
   "metadata": {},
   "source": [
    "В таблице с тарифами также переведём мегабайты в гигабайты"
   ]
  },
  {
   "cell_type": "code",
   "execution_count": 21,
   "metadata": {},
   "outputs": [
    {
     "data": {
      "text/html": [
       "<div>\n",
       "<style scoped>\n",
       "    .dataframe tbody tr th:only-of-type {\n",
       "        vertical-align: middle;\n",
       "    }\n",
       "\n",
       "    .dataframe tbody tr th {\n",
       "        vertical-align: top;\n",
       "    }\n",
       "\n",
       "    .dataframe thead th {\n",
       "        text-align: right;\n",
       "    }\n",
       "</style>\n",
       "<table border=\"1\" class=\"dataframe\">\n",
       "  <thead>\n",
       "    <tr style=\"text-align: right;\">\n",
       "      <th></th>\n",
       "      <th>0</th>\n",
       "      <th>1</th>\n",
       "    </tr>\n",
       "  </thead>\n",
       "  <tbody>\n",
       "    <tr>\n",
       "      <th>messages_included</th>\n",
       "      <td>50</td>\n",
       "      <td>1000</td>\n",
       "    </tr>\n",
       "    <tr>\n",
       "      <th>mb_per_month_included</th>\n",
       "      <td>15360</td>\n",
       "      <td>30720</td>\n",
       "    </tr>\n",
       "    <tr>\n",
       "      <th>minutes_included</th>\n",
       "      <td>500</td>\n",
       "      <td>3000</td>\n",
       "    </tr>\n",
       "    <tr>\n",
       "      <th>rub_monthly_fee</th>\n",
       "      <td>550</td>\n",
       "      <td>1950</td>\n",
       "    </tr>\n",
       "    <tr>\n",
       "      <th>rub_per_gb</th>\n",
       "      <td>200</td>\n",
       "      <td>150</td>\n",
       "    </tr>\n",
       "    <tr>\n",
       "      <th>rub_per_message</th>\n",
       "      <td>3</td>\n",
       "      <td>1</td>\n",
       "    </tr>\n",
       "    <tr>\n",
       "      <th>rub_per_minute</th>\n",
       "      <td>3</td>\n",
       "      <td>1</td>\n",
       "    </tr>\n",
       "    <tr>\n",
       "      <th>tariff_name</th>\n",
       "      <td>smart</td>\n",
       "      <td>ultra</td>\n",
       "    </tr>\n",
       "    <tr>\n",
       "      <th>gb_per_month_included</th>\n",
       "      <td>15.00</td>\n",
       "      <td>30.00</td>\n",
       "    </tr>\n",
       "  </tbody>\n",
       "</table>\n",
       "</div>"
      ],
      "text/plain": [
       "                           0      1\n",
       "messages_included         50   1000\n",
       "mb_per_month_included  15360  30720\n",
       "minutes_included         500   3000\n",
       "rub_monthly_fee          550   1950\n",
       "rub_per_gb               200    150\n",
       "rub_per_message            3      1\n",
       "rub_per_minute             3      1\n",
       "tariff_name            smart  ultra\n",
       "gb_per_month_included  15.00  30.00"
      ]
     },
     "execution_count": 21,
     "metadata": {},
     "output_type": "execute_result"
    }
   ],
   "source": [
    "trf['gb_per_month_included'] = trf['mb_per_month_included'] / 1024\n",
    "\n",
    "trf.T"
   ]
  },
  {
   "cell_type": "markdown",
   "metadata": {},
   "source": [
    "В таблице с сообщениями отсутствует столбец с количеством отправленных сообщений.  \n",
    "Посчитаем его помесячно, одновременно сгруппировав таблицу по user_id и month.  \n",
    "Переименуем колонку id, куда сохранится количество сообщений, в message_count"
   ]
  },
  {
   "cell_type": "code",
   "execution_count": 22,
   "metadata": {},
   "outputs": [
    {
     "data": {
      "text/html": [
       "<div>\n",
       "<style scoped>\n",
       "    .dataframe tbody tr th:only-of-type {\n",
       "        vertical-align: middle;\n",
       "    }\n",
       "\n",
       "    .dataframe tbody tr th {\n",
       "        vertical-align: top;\n",
       "    }\n",
       "\n",
       "    .dataframe thead th {\n",
       "        text-align: right;\n",
       "    }\n",
       "</style>\n",
       "<table border=\"1\" class=\"dataframe\">\n",
       "  <thead>\n",
       "    <tr style=\"text-align: right;\">\n",
       "      <th></th>\n",
       "      <th>user_id</th>\n",
       "      <th>month</th>\n",
       "      <th>message_count</th>\n",
       "    </tr>\n",
       "  </thead>\n",
       "  <tbody>\n",
       "    <tr>\n",
       "      <th>0</th>\n",
       "      <td>1000</td>\n",
       "      <td>5</td>\n",
       "      <td>22</td>\n",
       "    </tr>\n",
       "    <tr>\n",
       "      <th>1</th>\n",
       "      <td>1000</td>\n",
       "      <td>6</td>\n",
       "      <td>60</td>\n",
       "    </tr>\n",
       "    <tr>\n",
       "      <th>2</th>\n",
       "      <td>1000</td>\n",
       "      <td>7</td>\n",
       "      <td>75</td>\n",
       "    </tr>\n",
       "    <tr>\n",
       "      <th>3</th>\n",
       "      <td>1000</td>\n",
       "      <td>8</td>\n",
       "      <td>81</td>\n",
       "    </tr>\n",
       "    <tr>\n",
       "      <th>4</th>\n",
       "      <td>1000</td>\n",
       "      <td>9</td>\n",
       "      <td>57</td>\n",
       "    </tr>\n",
       "    <tr>\n",
       "      <th>...</th>\n",
       "      <td>...</td>\n",
       "      <td>...</td>\n",
       "      <td>...</td>\n",
       "    </tr>\n",
       "    <tr>\n",
       "      <th>2712</th>\n",
       "      <td>1498</td>\n",
       "      <td>10</td>\n",
       "      <td>42</td>\n",
       "    </tr>\n",
       "    <tr>\n",
       "      <th>2713</th>\n",
       "      <td>1499</td>\n",
       "      <td>9</td>\n",
       "      <td>11</td>\n",
       "    </tr>\n",
       "    <tr>\n",
       "      <th>2714</th>\n",
       "      <td>1499</td>\n",
       "      <td>10</td>\n",
       "      <td>48</td>\n",
       "    </tr>\n",
       "    <tr>\n",
       "      <th>2715</th>\n",
       "      <td>1499</td>\n",
       "      <td>11</td>\n",
       "      <td>59</td>\n",
       "    </tr>\n",
       "    <tr>\n",
       "      <th>2716</th>\n",
       "      <td>1499</td>\n",
       "      <td>12</td>\n",
       "      <td>66</td>\n",
       "    </tr>\n",
       "  </tbody>\n",
       "</table>\n",
       "<p>2717 rows × 3 columns</p>\n",
       "</div>"
      ],
      "text/plain": [
       "      user_id  month  message_count\n",
       "0        1000      5             22\n",
       "1        1000      6             60\n",
       "2        1000      7             75\n",
       "3        1000      8             81\n",
       "4        1000      9             57\n",
       "...       ...    ...            ...\n",
       "2712     1498     10             42\n",
       "2713     1499      9             11\n",
       "2714     1499     10             48\n",
       "2715     1499     11             59\n",
       "2716     1499     12             66\n",
       "\n",
       "[2717 rows x 3 columns]"
      ]
     },
     "metadata": {},
     "output_type": "display_data"
    }
   ],
   "source": [
    "mes_group = mes.groupby(['user_id', 'month'])['id'].count().reset_index()\n",
    "mes_group = mes_group.rename(columns={'id' : 'message_count'})\n",
    "display(mes_group)"
   ]
  },
  {
   "cell_type": "markdown",
   "metadata": {},
   "source": [
    "##### Объединение датафреймов"
   ]
  },
  {
   "cell_type": "markdown",
   "metadata": {},
   "source": [
    "Объединим таблицы со звонками и пользователями по общему столбцу user_id"
   ]
  },
  {
   "cell_type": "code",
   "execution_count": 23,
   "metadata": {},
   "outputs": [
    {
     "data": {
      "text/html": [
       "<div>\n",
       "<style scoped>\n",
       "    .dataframe tbody tr th:only-of-type {\n",
       "        vertical-align: middle;\n",
       "    }\n",
       "\n",
       "    .dataframe tbody tr th {\n",
       "        vertical-align: top;\n",
       "    }\n",
       "\n",
       "    .dataframe thead th {\n",
       "        text-align: right;\n",
       "    }\n",
       "</style>\n",
       "<table border=\"1\" class=\"dataframe\">\n",
       "  <thead>\n",
       "    <tr style=\"text-align: right;\">\n",
       "      <th></th>\n",
       "      <th>user_id</th>\n",
       "      <th>month</th>\n",
       "      <th>duration</th>\n",
       "      <th>calls_count</th>\n",
       "      <th>mb_used</th>\n",
       "      <th>gb_used</th>\n",
       "      <th>message_count</th>\n",
       "    </tr>\n",
       "  </thead>\n",
       "  <tbody>\n",
       "    <tr>\n",
       "      <th>0</th>\n",
       "      <td>1000</td>\n",
       "      <td>5</td>\n",
       "      <td>159.00</td>\n",
       "      <td>22.00</td>\n",
       "      <td>2253.49</td>\n",
       "      <td>3.00</td>\n",
       "      <td>22.00</td>\n",
       "    </tr>\n",
       "    <tr>\n",
       "      <th>1</th>\n",
       "      <td>1000</td>\n",
       "      <td>6</td>\n",
       "      <td>172.00</td>\n",
       "      <td>43.00</td>\n",
       "      <td>23233.77</td>\n",
       "      <td>23.00</td>\n",
       "      <td>60.00</td>\n",
       "    </tr>\n",
       "    <tr>\n",
       "      <th>2</th>\n",
       "      <td>1000</td>\n",
       "      <td>7</td>\n",
       "      <td>340.00</td>\n",
       "      <td>47.00</td>\n",
       "      <td>14003.64</td>\n",
       "      <td>14.00</td>\n",
       "      <td>75.00</td>\n",
       "    </tr>\n",
       "    <tr>\n",
       "      <th>3</th>\n",
       "      <td>1000</td>\n",
       "      <td>8</td>\n",
       "      <td>408.00</td>\n",
       "      <td>52.00</td>\n",
       "      <td>14055.93</td>\n",
       "      <td>14.00</td>\n",
       "      <td>81.00</td>\n",
       "    </tr>\n",
       "    <tr>\n",
       "      <th>4</th>\n",
       "      <td>1000</td>\n",
       "      <td>9</td>\n",
       "      <td>466.00</td>\n",
       "      <td>58.00</td>\n",
       "      <td>14568.91</td>\n",
       "      <td>15.00</td>\n",
       "      <td>57.00</td>\n",
       "    </tr>\n",
       "    <tr>\n",
       "      <th>...</th>\n",
       "      <td>...</td>\n",
       "      <td>...</td>\n",
       "      <td>...</td>\n",
       "      <td>...</td>\n",
       "      <td>...</td>\n",
       "      <td>...</td>\n",
       "      <td>...</td>\n",
       "    </tr>\n",
       "    <tr>\n",
       "      <th>3209</th>\n",
       "      <td>1489</td>\n",
       "      <td>8</td>\n",
       "      <td>NaN</td>\n",
       "      <td>NaN</td>\n",
       "      <td>11050.56</td>\n",
       "      <td>11.00</td>\n",
       "      <td>17.00</td>\n",
       "    </tr>\n",
       "    <tr>\n",
       "      <th>3210</th>\n",
       "      <td>1489</td>\n",
       "      <td>9</td>\n",
       "      <td>NaN</td>\n",
       "      <td>NaN</td>\n",
       "      <td>17206.30</td>\n",
       "      <td>17.00</td>\n",
       "      <td>32.00</td>\n",
       "    </tr>\n",
       "    <tr>\n",
       "      <th>3211</th>\n",
       "      <td>1489</td>\n",
       "      <td>10</td>\n",
       "      <td>NaN</td>\n",
       "      <td>NaN</td>\n",
       "      <td>19559.44</td>\n",
       "      <td>20.00</td>\n",
       "      <td>21.00</td>\n",
       "    </tr>\n",
       "    <tr>\n",
       "      <th>3212</th>\n",
       "      <td>1489</td>\n",
       "      <td>11</td>\n",
       "      <td>NaN</td>\n",
       "      <td>NaN</td>\n",
       "      <td>17491.56</td>\n",
       "      <td>18.00</td>\n",
       "      <td>20.00</td>\n",
       "    </tr>\n",
       "    <tr>\n",
       "      <th>3213</th>\n",
       "      <td>1489</td>\n",
       "      <td>12</td>\n",
       "      <td>NaN</td>\n",
       "      <td>NaN</td>\n",
       "      <td>17322.51</td>\n",
       "      <td>17.00</td>\n",
       "      <td>35.00</td>\n",
       "    </tr>\n",
       "  </tbody>\n",
       "</table>\n",
       "<p>3214 rows × 7 columns</p>\n",
       "</div>"
      ],
      "text/plain": [
       "      user_id  month  duration  calls_count  mb_used  gb_used  message_count\n",
       "0        1000      5    159.00        22.00  2253.49     3.00          22.00\n",
       "1        1000      6    172.00        43.00 23233.77    23.00          60.00\n",
       "2        1000      7    340.00        47.00 14003.64    14.00          75.00\n",
       "3        1000      8    408.00        52.00 14055.93    14.00          81.00\n",
       "4        1000      9    466.00        58.00 14568.91    15.00          57.00\n",
       "...       ...    ...       ...          ...      ...      ...            ...\n",
       "3209     1489      8       NaN          NaN 11050.56    11.00          17.00\n",
       "3210     1489      9       NaN          NaN 17206.30    17.00          32.00\n",
       "3211     1489     10       NaN          NaN 19559.44    20.00          21.00\n",
       "3212     1489     11       NaN          NaN 17491.56    18.00          20.00\n",
       "3213     1489     12       NaN          NaN 17322.51    17.00          35.00\n",
       "\n",
       "[3214 rows x 7 columns]"
      ]
     },
     "execution_count": 23,
     "metadata": {},
     "output_type": "execute_result"
    }
   ],
   "source": [
    "cal_inet = cal_group.merge(inet_group, on=['user_id', 'month'], how='outer')\n",
    "cal_inet_mes = cal_inet.merge(mes_group, on=['user_id', 'month'], how='outer')\n",
    "cal_inet_mes"
   ]
  },
  {
   "cell_type": "markdown",
   "metadata": {},
   "source": [
    "С целью последующего объединения датафреймов с данными о тарифах и пользователях переименуем столбец с названием тарифа в датафреме usr"
   ]
  },
  {
   "cell_type": "code",
   "execution_count": 24,
   "metadata": {},
   "outputs": [],
   "source": [
    "usr = usr.rename(columns={'tariff':'tariff_name'})"
   ]
  },
  {
   "cell_type": "markdown",
   "metadata": {},
   "source": [
    "Объединим датафреймы с данными клиентов и тарифами, которыми они пользуются"
   ]
  },
  {
   "cell_type": "code",
   "execution_count": 25,
   "metadata": {
    "scrolled": false
   },
   "outputs": [
    {
     "data": {
      "text/html": [
       "<div>\n",
       "<style scoped>\n",
       "    .dataframe tbody tr th:only-of-type {\n",
       "        vertical-align: middle;\n",
       "    }\n",
       "\n",
       "    .dataframe tbody tr th {\n",
       "        vertical-align: top;\n",
       "    }\n",
       "\n",
       "    .dataframe thead th {\n",
       "        text-align: right;\n",
       "    }\n",
       "</style>\n",
       "<table border=\"1\" class=\"dataframe\">\n",
       "  <thead>\n",
       "    <tr style=\"text-align: right;\">\n",
       "      <th></th>\n",
       "      <th>0</th>\n",
       "      <th>1</th>\n",
       "      <th>2</th>\n",
       "      <th>3</th>\n",
       "      <th>4</th>\n",
       "    </tr>\n",
       "  </thead>\n",
       "  <tbody>\n",
       "    <tr>\n",
       "      <th>user_id</th>\n",
       "      <td>1000</td>\n",
       "      <td>1003</td>\n",
       "      <td>1004</td>\n",
       "      <td>1013</td>\n",
       "      <td>1016</td>\n",
       "    </tr>\n",
       "    <tr>\n",
       "      <th>age</th>\n",
       "      <td>52</td>\n",
       "      <td>23</td>\n",
       "      <td>68</td>\n",
       "      <td>36</td>\n",
       "      <td>58</td>\n",
       "    </tr>\n",
       "    <tr>\n",
       "      <th>churn_date</th>\n",
       "      <td>NaT</td>\n",
       "      <td>NaT</td>\n",
       "      <td>NaT</td>\n",
       "      <td>NaT</td>\n",
       "      <td>NaT</td>\n",
       "    </tr>\n",
       "    <tr>\n",
       "      <th>city</th>\n",
       "      <td>Краснодар</td>\n",
       "      <td>Москва</td>\n",
       "      <td>Новокузнецк</td>\n",
       "      <td>Иваново</td>\n",
       "      <td>Омск</td>\n",
       "    </tr>\n",
       "    <tr>\n",
       "      <th>first_name</th>\n",
       "      <td>Рафаил</td>\n",
       "      <td>Белла</td>\n",
       "      <td>Татьяна</td>\n",
       "      <td>Борис</td>\n",
       "      <td>Марица</td>\n",
       "    </tr>\n",
       "    <tr>\n",
       "      <th>last_name</th>\n",
       "      <td>Верещагин</td>\n",
       "      <td>Белякова</td>\n",
       "      <td>Авдеенко</td>\n",
       "      <td>Андреенко</td>\n",
       "      <td>Сазонова</td>\n",
       "    </tr>\n",
       "    <tr>\n",
       "      <th>reg_date</th>\n",
       "      <td>2018-05-25 00:00:00</td>\n",
       "      <td>2018-08-17 00:00:00</td>\n",
       "      <td>2018-05-14 00:00:00</td>\n",
       "      <td>2018-11-14 00:00:00</td>\n",
       "      <td>2018-11-21 00:00:00</td>\n",
       "    </tr>\n",
       "    <tr>\n",
       "      <th>tariff_name</th>\n",
       "      <td>ultra</td>\n",
       "      <td>ultra</td>\n",
       "      <td>ultra</td>\n",
       "      <td>ultra</td>\n",
       "      <td>ultra</td>\n",
       "    </tr>\n",
       "    <tr>\n",
       "      <th>messages_included</th>\n",
       "      <td>1000</td>\n",
       "      <td>1000</td>\n",
       "      <td>1000</td>\n",
       "      <td>1000</td>\n",
       "      <td>1000</td>\n",
       "    </tr>\n",
       "    <tr>\n",
       "      <th>mb_per_month_included</th>\n",
       "      <td>30720</td>\n",
       "      <td>30720</td>\n",
       "      <td>30720</td>\n",
       "      <td>30720</td>\n",
       "      <td>30720</td>\n",
       "    </tr>\n",
       "    <tr>\n",
       "      <th>minutes_included</th>\n",
       "      <td>3000</td>\n",
       "      <td>3000</td>\n",
       "      <td>3000</td>\n",
       "      <td>3000</td>\n",
       "      <td>3000</td>\n",
       "    </tr>\n",
       "    <tr>\n",
       "      <th>rub_monthly_fee</th>\n",
       "      <td>1950</td>\n",
       "      <td>1950</td>\n",
       "      <td>1950</td>\n",
       "      <td>1950</td>\n",
       "      <td>1950</td>\n",
       "    </tr>\n",
       "    <tr>\n",
       "      <th>rub_per_gb</th>\n",
       "      <td>150</td>\n",
       "      <td>150</td>\n",
       "      <td>150</td>\n",
       "      <td>150</td>\n",
       "      <td>150</td>\n",
       "    </tr>\n",
       "    <tr>\n",
       "      <th>rub_per_message</th>\n",
       "      <td>1</td>\n",
       "      <td>1</td>\n",
       "      <td>1</td>\n",
       "      <td>1</td>\n",
       "      <td>1</td>\n",
       "    </tr>\n",
       "    <tr>\n",
       "      <th>rub_per_minute</th>\n",
       "      <td>1</td>\n",
       "      <td>1</td>\n",
       "      <td>1</td>\n",
       "      <td>1</td>\n",
       "      <td>1</td>\n",
       "    </tr>\n",
       "    <tr>\n",
       "      <th>gb_per_month_included</th>\n",
       "      <td>30.00</td>\n",
       "      <td>30.00</td>\n",
       "      <td>30.00</td>\n",
       "      <td>30.00</td>\n",
       "      <td>30.00</td>\n",
       "    </tr>\n",
       "  </tbody>\n",
       "</table>\n",
       "</div>"
      ],
      "text/plain": [
       "                                         0                    1  \\\n",
       "user_id                               1000                 1003   \n",
       "age                                     52                   23   \n",
       "churn_date                             NaT                  NaT   \n",
       "city                             Краснодар               Москва   \n",
       "first_name                          Рафаил                Белла   \n",
       "last_name                        Верещагин             Белякова   \n",
       "reg_date               2018-05-25 00:00:00  2018-08-17 00:00:00   \n",
       "tariff_name                          ultra                ultra   \n",
       "messages_included                     1000                 1000   \n",
       "mb_per_month_included                30720                30720   \n",
       "minutes_included                      3000                 3000   \n",
       "rub_monthly_fee                       1950                 1950   \n",
       "rub_per_gb                             150                  150   \n",
       "rub_per_message                          1                    1   \n",
       "rub_per_minute                           1                    1   \n",
       "gb_per_month_included                30.00                30.00   \n",
       "\n",
       "                                         2                    3  \\\n",
       "user_id                               1004                 1013   \n",
       "age                                     68                   36   \n",
       "churn_date                             NaT                  NaT   \n",
       "city                           Новокузнецк              Иваново   \n",
       "first_name                         Татьяна                Борис   \n",
       "last_name                         Авдеенко            Андреенко   \n",
       "reg_date               2018-05-14 00:00:00  2018-11-14 00:00:00   \n",
       "tariff_name                          ultra                ultra   \n",
       "messages_included                     1000                 1000   \n",
       "mb_per_month_included                30720                30720   \n",
       "minutes_included                      3000                 3000   \n",
       "rub_monthly_fee                       1950                 1950   \n",
       "rub_per_gb                             150                  150   \n",
       "rub_per_message                          1                    1   \n",
       "rub_per_minute                           1                    1   \n",
       "gb_per_month_included                30.00                30.00   \n",
       "\n",
       "                                         4  \n",
       "user_id                               1016  \n",
       "age                                     58  \n",
       "churn_date                             NaT  \n",
       "city                                  Омск  \n",
       "first_name                          Марица  \n",
       "last_name                         Сазонова  \n",
       "reg_date               2018-11-21 00:00:00  \n",
       "tariff_name                          ultra  \n",
       "messages_included                     1000  \n",
       "mb_per_month_included                30720  \n",
       "minutes_included                      3000  \n",
       "rub_monthly_fee                       1950  \n",
       "rub_per_gb                             150  \n",
       "rub_per_message                          1  \n",
       "rub_per_minute                           1  \n",
       "gb_per_month_included                30.00  "
      ]
     },
     "execution_count": 25,
     "metadata": {},
     "output_type": "execute_result"
    }
   ],
   "source": [
    "usr_trf = usr.merge(trf, on='tariff_name', how='outer')\n",
    "usr_trf.head().T"
   ]
  },
  {
   "cell_type": "code",
   "execution_count": 26,
   "metadata": {},
   "outputs": [
    {
     "data": {
      "text/html": [
       "<div>\n",
       "<style scoped>\n",
       "    .dataframe tbody tr th:only-of-type {\n",
       "        vertical-align: middle;\n",
       "    }\n",
       "\n",
       "    .dataframe tbody tr th {\n",
       "        vertical-align: top;\n",
       "    }\n",
       "\n",
       "    .dataframe thead th {\n",
       "        text-align: right;\n",
       "    }\n",
       "</style>\n",
       "<table border=\"1\" class=\"dataframe\">\n",
       "  <thead>\n",
       "    <tr style=\"text-align: right;\">\n",
       "      <th></th>\n",
       "      <th>0</th>\n",
       "      <th>1</th>\n",
       "      <th>2</th>\n",
       "      <th>3</th>\n",
       "      <th>4</th>\n",
       "    </tr>\n",
       "  </thead>\n",
       "  <tbody>\n",
       "    <tr>\n",
       "      <th>user_id</th>\n",
       "      <td>1000</td>\n",
       "      <td>1000</td>\n",
       "      <td>1000</td>\n",
       "      <td>1000</td>\n",
       "      <td>1000</td>\n",
       "    </tr>\n",
       "    <tr>\n",
       "      <th>age</th>\n",
       "      <td>52</td>\n",
       "      <td>52</td>\n",
       "      <td>52</td>\n",
       "      <td>52</td>\n",
       "      <td>52</td>\n",
       "    </tr>\n",
       "    <tr>\n",
       "      <th>churn_date</th>\n",
       "      <td>NaT</td>\n",
       "      <td>NaT</td>\n",
       "      <td>NaT</td>\n",
       "      <td>NaT</td>\n",
       "      <td>NaT</td>\n",
       "    </tr>\n",
       "    <tr>\n",
       "      <th>city</th>\n",
       "      <td>Краснодар</td>\n",
       "      <td>Краснодар</td>\n",
       "      <td>Краснодар</td>\n",
       "      <td>Краснодар</td>\n",
       "      <td>Краснодар</td>\n",
       "    </tr>\n",
       "    <tr>\n",
       "      <th>first_name</th>\n",
       "      <td>Рафаил</td>\n",
       "      <td>Рафаил</td>\n",
       "      <td>Рафаил</td>\n",
       "      <td>Рафаил</td>\n",
       "      <td>Рафаил</td>\n",
       "    </tr>\n",
       "    <tr>\n",
       "      <th>last_name</th>\n",
       "      <td>Верещагин</td>\n",
       "      <td>Верещагин</td>\n",
       "      <td>Верещагин</td>\n",
       "      <td>Верещагин</td>\n",
       "      <td>Верещагин</td>\n",
       "    </tr>\n",
       "    <tr>\n",
       "      <th>reg_date</th>\n",
       "      <td>2018-05-25 00:00:00</td>\n",
       "      <td>2018-05-25 00:00:00</td>\n",
       "      <td>2018-05-25 00:00:00</td>\n",
       "      <td>2018-05-25 00:00:00</td>\n",
       "      <td>2018-05-25 00:00:00</td>\n",
       "    </tr>\n",
       "    <tr>\n",
       "      <th>tariff_name</th>\n",
       "      <td>ultra</td>\n",
       "      <td>ultra</td>\n",
       "      <td>ultra</td>\n",
       "      <td>ultra</td>\n",
       "      <td>ultra</td>\n",
       "    </tr>\n",
       "    <tr>\n",
       "      <th>messages_included</th>\n",
       "      <td>1000</td>\n",
       "      <td>1000</td>\n",
       "      <td>1000</td>\n",
       "      <td>1000</td>\n",
       "      <td>1000</td>\n",
       "    </tr>\n",
       "    <tr>\n",
       "      <th>mb_per_month_included</th>\n",
       "      <td>30720</td>\n",
       "      <td>30720</td>\n",
       "      <td>30720</td>\n",
       "      <td>30720</td>\n",
       "      <td>30720</td>\n",
       "    </tr>\n",
       "    <tr>\n",
       "      <th>minutes_included</th>\n",
       "      <td>3000</td>\n",
       "      <td>3000</td>\n",
       "      <td>3000</td>\n",
       "      <td>3000</td>\n",
       "      <td>3000</td>\n",
       "    </tr>\n",
       "    <tr>\n",
       "      <th>rub_monthly_fee</th>\n",
       "      <td>1950</td>\n",
       "      <td>1950</td>\n",
       "      <td>1950</td>\n",
       "      <td>1950</td>\n",
       "      <td>1950</td>\n",
       "    </tr>\n",
       "    <tr>\n",
       "      <th>rub_per_gb</th>\n",
       "      <td>150</td>\n",
       "      <td>150</td>\n",
       "      <td>150</td>\n",
       "      <td>150</td>\n",
       "      <td>150</td>\n",
       "    </tr>\n",
       "    <tr>\n",
       "      <th>rub_per_message</th>\n",
       "      <td>1</td>\n",
       "      <td>1</td>\n",
       "      <td>1</td>\n",
       "      <td>1</td>\n",
       "      <td>1</td>\n",
       "    </tr>\n",
       "    <tr>\n",
       "      <th>rub_per_minute</th>\n",
       "      <td>1</td>\n",
       "      <td>1</td>\n",
       "      <td>1</td>\n",
       "      <td>1</td>\n",
       "      <td>1</td>\n",
       "    </tr>\n",
       "    <tr>\n",
       "      <th>gb_per_month_included</th>\n",
       "      <td>30.00</td>\n",
       "      <td>30.00</td>\n",
       "      <td>30.00</td>\n",
       "      <td>30.00</td>\n",
       "      <td>30.00</td>\n",
       "    </tr>\n",
       "    <tr>\n",
       "      <th>month</th>\n",
       "      <td>5.00</td>\n",
       "      <td>6.00</td>\n",
       "      <td>7.00</td>\n",
       "      <td>8.00</td>\n",
       "      <td>9.00</td>\n",
       "    </tr>\n",
       "    <tr>\n",
       "      <th>duration</th>\n",
       "      <td>159.00</td>\n",
       "      <td>172.00</td>\n",
       "      <td>340.00</td>\n",
       "      <td>408.00</td>\n",
       "      <td>466.00</td>\n",
       "    </tr>\n",
       "    <tr>\n",
       "      <th>calls_count</th>\n",
       "      <td>22.00</td>\n",
       "      <td>43.00</td>\n",
       "      <td>47.00</td>\n",
       "      <td>52.00</td>\n",
       "      <td>58.00</td>\n",
       "    </tr>\n",
       "    <tr>\n",
       "      <th>mb_used</th>\n",
       "      <td>2253.49</td>\n",
       "      <td>23233.77</td>\n",
       "      <td>14003.64</td>\n",
       "      <td>14055.93</td>\n",
       "      <td>14568.91</td>\n",
       "    </tr>\n",
       "    <tr>\n",
       "      <th>gb_used</th>\n",
       "      <td>3.00</td>\n",
       "      <td>23.00</td>\n",
       "      <td>14.00</td>\n",
       "      <td>14.00</td>\n",
       "      <td>15.00</td>\n",
       "    </tr>\n",
       "    <tr>\n",
       "      <th>message_count</th>\n",
       "      <td>22.00</td>\n",
       "      <td>60.00</td>\n",
       "      <td>75.00</td>\n",
       "      <td>81.00</td>\n",
       "      <td>57.00</td>\n",
       "    </tr>\n",
       "  </tbody>\n",
       "</table>\n",
       "</div>"
      ],
      "text/plain": [
       "                                         0                    1  \\\n",
       "user_id                               1000                 1000   \n",
       "age                                     52                   52   \n",
       "churn_date                             NaT                  NaT   \n",
       "city                             Краснодар            Краснодар   \n",
       "first_name                          Рафаил               Рафаил   \n",
       "last_name                        Верещагин            Верещагин   \n",
       "reg_date               2018-05-25 00:00:00  2018-05-25 00:00:00   \n",
       "tariff_name                          ultra                ultra   \n",
       "messages_included                     1000                 1000   \n",
       "mb_per_month_included                30720                30720   \n",
       "minutes_included                      3000                 3000   \n",
       "rub_monthly_fee                       1950                 1950   \n",
       "rub_per_gb                             150                  150   \n",
       "rub_per_message                          1                    1   \n",
       "rub_per_minute                           1                    1   \n",
       "gb_per_month_included                30.00                30.00   \n",
       "month                                 5.00                 6.00   \n",
       "duration                            159.00               172.00   \n",
       "calls_count                          22.00                43.00   \n",
       "mb_used                            2253.49             23233.77   \n",
       "gb_used                               3.00                23.00   \n",
       "message_count                        22.00                60.00   \n",
       "\n",
       "                                         2                    3  \\\n",
       "user_id                               1000                 1000   \n",
       "age                                     52                   52   \n",
       "churn_date                             NaT                  NaT   \n",
       "city                             Краснодар            Краснодар   \n",
       "first_name                          Рафаил               Рафаил   \n",
       "last_name                        Верещагин            Верещагин   \n",
       "reg_date               2018-05-25 00:00:00  2018-05-25 00:00:00   \n",
       "tariff_name                          ultra                ultra   \n",
       "messages_included                     1000                 1000   \n",
       "mb_per_month_included                30720                30720   \n",
       "minutes_included                      3000                 3000   \n",
       "rub_monthly_fee                       1950                 1950   \n",
       "rub_per_gb                             150                  150   \n",
       "rub_per_message                          1                    1   \n",
       "rub_per_minute                           1                    1   \n",
       "gb_per_month_included                30.00                30.00   \n",
       "month                                 7.00                 8.00   \n",
       "duration                            340.00               408.00   \n",
       "calls_count                          47.00                52.00   \n",
       "mb_used                           14003.64             14055.93   \n",
       "gb_used                              14.00                14.00   \n",
       "message_count                        75.00                81.00   \n",
       "\n",
       "                                         4  \n",
       "user_id                               1000  \n",
       "age                                     52  \n",
       "churn_date                             NaT  \n",
       "city                             Краснодар  \n",
       "first_name                          Рафаил  \n",
       "last_name                        Верещагин  \n",
       "reg_date               2018-05-25 00:00:00  \n",
       "tariff_name                          ultra  \n",
       "messages_included                     1000  \n",
       "mb_per_month_included                30720  \n",
       "minutes_included                      3000  \n",
       "rub_monthly_fee                       1950  \n",
       "rub_per_gb                             150  \n",
       "rub_per_message                          1  \n",
       "rub_per_minute                           1  \n",
       "gb_per_month_included                30.00  \n",
       "month                                 9.00  \n",
       "duration                            466.00  \n",
       "calls_count                          58.00  \n",
       "mb_used                           14568.91  \n",
       "gb_used                              15.00  \n",
       "message_count                        57.00  "
      ]
     },
     "execution_count": 26,
     "metadata": {},
     "output_type": "execute_result"
    }
   ],
   "source": [
    "df_all = usr_trf.merge(cal_inet_mes, on=['user_id'], how='outer')\n",
    "df_all.head().T"
   ]
  },
  {
   "cell_type": "markdown",
   "metadata": {},
   "source": [
    "Для удобства последующего анализа уберем из объединённого датафрейма лишние столбцы"
   ]
  },
  {
   "cell_type": "code",
   "execution_count": 27,
   "metadata": {
    "scrolled": false
   },
   "outputs": [
    {
     "data": {
      "text/html": [
       "<div>\n",
       "<style scoped>\n",
       "    .dataframe tbody tr th:only-of-type {\n",
       "        vertical-align: middle;\n",
       "    }\n",
       "\n",
       "    .dataframe tbody tr th {\n",
       "        vertical-align: top;\n",
       "    }\n",
       "\n",
       "    .dataframe thead th {\n",
       "        text-align: right;\n",
       "    }\n",
       "</style>\n",
       "<table border=\"1\" class=\"dataframe\">\n",
       "  <thead>\n",
       "    <tr style=\"text-align: right;\">\n",
       "      <th></th>\n",
       "      <th>0</th>\n",
       "      <th>1</th>\n",
       "      <th>2</th>\n",
       "      <th>3</th>\n",
       "      <th>4</th>\n",
       "    </tr>\n",
       "  </thead>\n",
       "  <tbody>\n",
       "    <tr>\n",
       "      <th>user_id</th>\n",
       "      <td>1000</td>\n",
       "      <td>1000</td>\n",
       "      <td>1000</td>\n",
       "      <td>1000</td>\n",
       "      <td>1000</td>\n",
       "    </tr>\n",
       "    <tr>\n",
       "      <th>city</th>\n",
       "      <td>Краснодар</td>\n",
       "      <td>Краснодар</td>\n",
       "      <td>Краснодар</td>\n",
       "      <td>Краснодар</td>\n",
       "      <td>Краснодар</td>\n",
       "    </tr>\n",
       "    <tr>\n",
       "      <th>tariff_name</th>\n",
       "      <td>ultra</td>\n",
       "      <td>ultra</td>\n",
       "      <td>ultra</td>\n",
       "      <td>ultra</td>\n",
       "      <td>ultra</td>\n",
       "    </tr>\n",
       "    <tr>\n",
       "      <th>rub_monthly_fee</th>\n",
       "      <td>1950</td>\n",
       "      <td>1950</td>\n",
       "      <td>1950</td>\n",
       "      <td>1950</td>\n",
       "      <td>1950</td>\n",
       "    </tr>\n",
       "    <tr>\n",
       "      <th>month</th>\n",
       "      <td>5.00</td>\n",
       "      <td>6.00</td>\n",
       "      <td>7.00</td>\n",
       "      <td>8.00</td>\n",
       "      <td>9.00</td>\n",
       "    </tr>\n",
       "    <tr>\n",
       "      <th>minutes_included</th>\n",
       "      <td>3000</td>\n",
       "      <td>3000</td>\n",
       "      <td>3000</td>\n",
       "      <td>3000</td>\n",
       "      <td>3000</td>\n",
       "    </tr>\n",
       "    <tr>\n",
       "      <th>duration</th>\n",
       "      <td>159.00</td>\n",
       "      <td>172.00</td>\n",
       "      <td>340.00</td>\n",
       "      <td>408.00</td>\n",
       "      <td>466.00</td>\n",
       "    </tr>\n",
       "    <tr>\n",
       "      <th>calls_count</th>\n",
       "      <td>22.00</td>\n",
       "      <td>43.00</td>\n",
       "      <td>47.00</td>\n",
       "      <td>52.00</td>\n",
       "      <td>58.00</td>\n",
       "    </tr>\n",
       "    <tr>\n",
       "      <th>rub_per_minute</th>\n",
       "      <td>1</td>\n",
       "      <td>1</td>\n",
       "      <td>1</td>\n",
       "      <td>1</td>\n",
       "      <td>1</td>\n",
       "    </tr>\n",
       "    <tr>\n",
       "      <th>messages_included</th>\n",
       "      <td>1000</td>\n",
       "      <td>1000</td>\n",
       "      <td>1000</td>\n",
       "      <td>1000</td>\n",
       "      <td>1000</td>\n",
       "    </tr>\n",
       "    <tr>\n",
       "      <th>message_count</th>\n",
       "      <td>22.00</td>\n",
       "      <td>60.00</td>\n",
       "      <td>75.00</td>\n",
       "      <td>81.00</td>\n",
       "      <td>57.00</td>\n",
       "    </tr>\n",
       "    <tr>\n",
       "      <th>rub_per_message</th>\n",
       "      <td>1</td>\n",
       "      <td>1</td>\n",
       "      <td>1</td>\n",
       "      <td>1</td>\n",
       "      <td>1</td>\n",
       "    </tr>\n",
       "    <tr>\n",
       "      <th>gb_per_month_included</th>\n",
       "      <td>30.00</td>\n",
       "      <td>30.00</td>\n",
       "      <td>30.00</td>\n",
       "      <td>30.00</td>\n",
       "      <td>30.00</td>\n",
       "    </tr>\n",
       "    <tr>\n",
       "      <th>gb_used</th>\n",
       "      <td>3.00</td>\n",
       "      <td>23.00</td>\n",
       "      <td>14.00</td>\n",
       "      <td>14.00</td>\n",
       "      <td>15.00</td>\n",
       "    </tr>\n",
       "    <tr>\n",
       "      <th>rub_per_gb</th>\n",
       "      <td>150</td>\n",
       "      <td>150</td>\n",
       "      <td>150</td>\n",
       "      <td>150</td>\n",
       "      <td>150</td>\n",
       "    </tr>\n",
       "  </tbody>\n",
       "</table>\n",
       "</div>"
      ],
      "text/plain": [
       "                               0          1          2          3          4\n",
       "user_id                     1000       1000       1000       1000       1000\n",
       "city                   Краснодар  Краснодар  Краснодар  Краснодар  Краснодар\n",
       "tariff_name                ultra      ultra      ultra      ultra      ultra\n",
       "rub_monthly_fee             1950       1950       1950       1950       1950\n",
       "month                       5.00       6.00       7.00       8.00       9.00\n",
       "minutes_included            3000       3000       3000       3000       3000\n",
       "duration                  159.00     172.00     340.00     408.00     466.00\n",
       "calls_count                22.00      43.00      47.00      52.00      58.00\n",
       "rub_per_minute                 1          1          1          1          1\n",
       "messages_included           1000       1000       1000       1000       1000\n",
       "message_count              22.00      60.00      75.00      81.00      57.00\n",
       "rub_per_message                1          1          1          1          1\n",
       "gb_per_month_included      30.00      30.00      30.00      30.00      30.00\n",
       "gb_used                     3.00      23.00      14.00      14.00      15.00\n",
       "rub_per_gb                   150        150        150        150        150"
      ]
     },
     "execution_count": 27,
     "metadata": {},
     "output_type": "execute_result"
    }
   ],
   "source": [
    "df = df_all[['user_id', 'city', 'tariff_name', 'rub_monthly_fee', 'month',\n",
    "             'minutes_included', 'duration', 'calls_count', 'rub_per_minute',\n",
    "            'messages_included', 'message_count', 'rub_per_message',\n",
    "            'gb_per_month_included', 'gb_used', 'rub_per_gb']]\n",
    "df.head().T"
   ]
  },
  {
   "cell_type": "markdown",
   "metadata": {},
   "source": [
    "Проверим объединённый датафрейм на наличие пропусков"
   ]
  },
  {
   "cell_type": "code",
   "execution_count": 28,
   "metadata": {},
   "outputs": [
    {
     "data": {
      "text/plain": [
       "user_id                    0\n",
       "city                       0\n",
       "tariff_name                0\n",
       "rub_monthly_fee            0\n",
       "month                      2\n",
       "minutes_included           0\n",
       "duration                  42\n",
       "calls_count               42\n",
       "rub_per_minute             0\n",
       "messages_included          0\n",
       "message_count            499\n",
       "rub_per_message            0\n",
       "gb_per_month_included      0\n",
       "gb_used                   13\n",
       "rub_per_gb                 0\n",
       "dtype: int64"
      ]
     },
     "execution_count": 28,
     "metadata": {},
     "output_type": "execute_result"
    }
   ],
   "source": [
    "df.isna().sum()"
   ]
  },
  {
   "cell_type": "markdown",
   "metadata": {},
   "source": [
    "Пропуски в столбцах duration, calls_count, message_count, gb_used появились в результате того, что каждый из исходных датафреймов был разной длины и не все клиенты пользовались всеми услугами. Поэтому указанные пропуски заполним просто нулями."
   ]
  },
  {
   "cell_type": "code",
   "execution_count": 29,
   "metadata": {},
   "outputs": [
    {
     "data": {
      "text/plain": [
       "user_id                  0\n",
       "city                     0\n",
       "tariff_name              0\n",
       "rub_monthly_fee          0\n",
       "month                    2\n",
       "minutes_included         0\n",
       "duration                 0\n",
       "calls_count              0\n",
       "rub_per_minute           0\n",
       "messages_included        0\n",
       "message_count            0\n",
       "rub_per_message          0\n",
       "gb_per_month_included    0\n",
       "gb_used                  0\n",
       "rub_per_gb               0\n",
       "dtype: int64"
      ]
     },
     "execution_count": 29,
     "metadata": {},
     "output_type": "execute_result"
    }
   ],
   "source": [
    "df.loc[df['duration'].isna(), 'duration'] = 0\n",
    "df.loc[df['calls_count'].isna(), 'calls_count'] = 0\n",
    "df.loc[df['message_count'].isna(), 'message_count'] = 0\n",
    "df.loc[df['gb_used'].isna(), 'gb_used'] = 0\n",
    "\n",
    "df.isna().sum()"
   ]
  },
  {
   "cell_type": "markdown",
   "metadata": {},
   "source": [
    "##### Подсчёт выручки"
   ]
  },
  {
   "cell_type": "code",
   "execution_count": 30,
   "metadata": {},
   "outputs": [
    {
     "data": {
      "text/html": [
       "<div>\n",
       "<style scoped>\n",
       "    .dataframe tbody tr th:only-of-type {\n",
       "        vertical-align: middle;\n",
       "    }\n",
       "\n",
       "    .dataframe tbody tr th {\n",
       "        vertical-align: top;\n",
       "    }\n",
       "\n",
       "    .dataframe thead th {\n",
       "        text-align: right;\n",
       "    }\n",
       "</style>\n",
       "<table border=\"1\" class=\"dataframe\">\n",
       "  <thead>\n",
       "    <tr style=\"text-align: right;\">\n",
       "      <th></th>\n",
       "      <th>3206</th>\n",
       "      <th>3207</th>\n",
       "      <th>3208</th>\n",
       "      <th>3209</th>\n",
       "      <th>3210</th>\n",
       "      <th>3211</th>\n",
       "      <th>3212</th>\n",
       "      <th>3213</th>\n",
       "      <th>3214</th>\n",
       "      <th>3215</th>\n",
       "    </tr>\n",
       "  </thead>\n",
       "  <tbody>\n",
       "    <tr>\n",
       "      <th>user_id</th>\n",
       "      <td>1497</td>\n",
       "      <td>1497</td>\n",
       "      <td>1498</td>\n",
       "      <td>1498</td>\n",
       "      <td>1498</td>\n",
       "      <td>1498</td>\n",
       "      <td>1499</td>\n",
       "      <td>1499</td>\n",
       "      <td>1499</td>\n",
       "      <td>1499</td>\n",
       "    </tr>\n",
       "    <tr>\n",
       "      <th>city</th>\n",
       "      <td>Челябинск</td>\n",
       "      <td>Челябинск</td>\n",
       "      <td>Владикавказ</td>\n",
       "      <td>Владикавказ</td>\n",
       "      <td>Владикавказ</td>\n",
       "      <td>Владикавказ</td>\n",
       "      <td>Пермь</td>\n",
       "      <td>Пермь</td>\n",
       "      <td>Пермь</td>\n",
       "      <td>Пермь</td>\n",
       "    </tr>\n",
       "    <tr>\n",
       "      <th>tariff_name</th>\n",
       "      <td>smart</td>\n",
       "      <td>smart</td>\n",
       "      <td>smart</td>\n",
       "      <td>smart</td>\n",
       "      <td>smart</td>\n",
       "      <td>smart</td>\n",
       "      <td>smart</td>\n",
       "      <td>smart</td>\n",
       "      <td>smart</td>\n",
       "      <td>smart</td>\n",
       "    </tr>\n",
       "    <tr>\n",
       "      <th>rub_monthly_fee</th>\n",
       "      <td>550</td>\n",
       "      <td>550</td>\n",
       "      <td>550</td>\n",
       "      <td>550</td>\n",
       "      <td>550</td>\n",
       "      <td>550</td>\n",
       "      <td>550</td>\n",
       "      <td>550</td>\n",
       "      <td>550</td>\n",
       "      <td>550</td>\n",
       "    </tr>\n",
       "    <tr>\n",
       "      <th>month</th>\n",
       "      <td>11.00</td>\n",
       "      <td>12.00</td>\n",
       "      <td>7.00</td>\n",
       "      <td>8.00</td>\n",
       "      <td>9.00</td>\n",
       "      <td>10.00</td>\n",
       "      <td>9.00</td>\n",
       "      <td>10.00</td>\n",
       "      <td>11.00</td>\n",
       "      <td>12.00</td>\n",
       "    </tr>\n",
       "    <tr>\n",
       "      <th>minutes_included</th>\n",
       "      <td>500</td>\n",
       "      <td>500</td>\n",
       "      <td>500</td>\n",
       "      <td>500</td>\n",
       "      <td>500</td>\n",
       "      <td>500</td>\n",
       "      <td>500</td>\n",
       "      <td>500</td>\n",
       "      <td>500</td>\n",
       "      <td>500</td>\n",
       "    </tr>\n",
       "    <tr>\n",
       "      <th>duration</th>\n",
       "      <td>371.00</td>\n",
       "      <td>545.00</td>\n",
       "      <td>175.00</td>\n",
       "      <td>400.00</td>\n",
       "      <td>471.00</td>\n",
       "      <td>247.00</td>\n",
       "      <td>70.00</td>\n",
       "      <td>449.00</td>\n",
       "      <td>612.00</td>\n",
       "      <td>492.00</td>\n",
       "    </tr>\n",
       "    <tr>\n",
       "      <th>calls_count</th>\n",
       "      <td>64.00</td>\n",
       "      <td>71.00</td>\n",
       "      <td>23.00</td>\n",
       "      <td>57.00</td>\n",
       "      <td>59.00</td>\n",
       "      <td>41.00</td>\n",
       "      <td>9.00</td>\n",
       "      <td>68.00</td>\n",
       "      <td>74.00</td>\n",
       "      <td>69.00</td>\n",
       "    </tr>\n",
       "    <tr>\n",
       "      <th>rub_per_minute</th>\n",
       "      <td>3</td>\n",
       "      <td>3</td>\n",
       "      <td>3</td>\n",
       "      <td>3</td>\n",
       "      <td>3</td>\n",
       "      <td>3</td>\n",
       "      <td>3</td>\n",
       "      <td>3</td>\n",
       "      <td>3</td>\n",
       "      <td>3</td>\n",
       "    </tr>\n",
       "    <tr>\n",
       "      <th>messages_included</th>\n",
       "      <td>50</td>\n",
       "      <td>50</td>\n",
       "      <td>50</td>\n",
       "      <td>50</td>\n",
       "      <td>50</td>\n",
       "      <td>50</td>\n",
       "      <td>50</td>\n",
       "      <td>50</td>\n",
       "      <td>50</td>\n",
       "      <td>50</td>\n",
       "    </tr>\n",
       "    <tr>\n",
       "      <th>message_count</th>\n",
       "      <td>14.00</td>\n",
       "      <td>17.00</td>\n",
       "      <td>20.00</td>\n",
       "      <td>62.00</td>\n",
       "      <td>44.00</td>\n",
       "      <td>42.00</td>\n",
       "      <td>11.00</td>\n",
       "      <td>48.00</td>\n",
       "      <td>59.00</td>\n",
       "      <td>66.00</td>\n",
       "    </tr>\n",
       "    <tr>\n",
       "      <th>rub_per_message</th>\n",
       "      <td>3</td>\n",
       "      <td>3</td>\n",
       "      <td>3</td>\n",
       "      <td>3</td>\n",
       "      <td>3</td>\n",
       "      <td>3</td>\n",
       "      <td>3</td>\n",
       "      <td>3</td>\n",
       "      <td>3</td>\n",
       "      <td>3</td>\n",
       "    </tr>\n",
       "    <tr>\n",
       "      <th>gb_per_month_included</th>\n",
       "      <td>15.00</td>\n",
       "      <td>15.00</td>\n",
       "      <td>15.00</td>\n",
       "      <td>15.00</td>\n",
       "      <td>15.00</td>\n",
       "      <td>15.00</td>\n",
       "      <td>15.00</td>\n",
       "      <td>15.00</td>\n",
       "      <td>15.00</td>\n",
       "      <td>15.00</td>\n",
       "    </tr>\n",
       "    <tr>\n",
       "      <th>gb_used</th>\n",
       "      <td>14.00</td>\n",
       "      <td>20.00</td>\n",
       "      <td>8.00</td>\n",
       "      <td>24.00</td>\n",
       "      <td>22.00</td>\n",
       "      <td>21.00</td>\n",
       "      <td>2.00</td>\n",
       "      <td>18.00</td>\n",
       "      <td>18.00</td>\n",
       "      <td>13.00</td>\n",
       "    </tr>\n",
       "    <tr>\n",
       "      <th>rub_per_gb</th>\n",
       "      <td>200</td>\n",
       "      <td>200</td>\n",
       "      <td>200</td>\n",
       "      <td>200</td>\n",
       "      <td>200</td>\n",
       "      <td>200</td>\n",
       "      <td>200</td>\n",
       "      <td>200</td>\n",
       "      <td>200</td>\n",
       "      <td>200</td>\n",
       "    </tr>\n",
       "    <tr>\n",
       "      <th>revenue</th>\n",
       "      <td>550.00</td>\n",
       "      <td>1685.00</td>\n",
       "      <td>550.00</td>\n",
       "      <td>2386.00</td>\n",
       "      <td>1950.00</td>\n",
       "      <td>1750.00</td>\n",
       "      <td>550.00</td>\n",
       "      <td>1150.00</td>\n",
       "      <td>1513.00</td>\n",
       "      <td>598.00</td>\n",
       "    </tr>\n",
       "  </tbody>\n",
       "</table>\n",
       "</div>"
      ],
      "text/plain": [
       "                            3206       3207         3208         3209  \\\n",
       "user_id                     1497       1497         1498         1498   \n",
       "city                   Челябинск  Челябинск  Владикавказ  Владикавказ   \n",
       "tariff_name                smart      smart        smart        smart   \n",
       "rub_monthly_fee              550        550          550          550   \n",
       "month                      11.00      12.00         7.00         8.00   \n",
       "minutes_included             500        500          500          500   \n",
       "duration                  371.00     545.00       175.00       400.00   \n",
       "calls_count                64.00      71.00        23.00        57.00   \n",
       "rub_per_minute                 3          3            3            3   \n",
       "messages_included             50         50           50           50   \n",
       "message_count              14.00      17.00        20.00        62.00   \n",
       "rub_per_message                3          3            3            3   \n",
       "gb_per_month_included      15.00      15.00        15.00        15.00   \n",
       "gb_used                    14.00      20.00         8.00        24.00   \n",
       "rub_per_gb                   200        200          200          200   \n",
       "revenue                   550.00    1685.00       550.00      2386.00   \n",
       "\n",
       "                              3210         3211   3212    3213    3214   3215  \n",
       "user_id                       1498         1498   1499    1499    1499   1499  \n",
       "city                   Владикавказ  Владикавказ  Пермь   Пермь   Пермь  Пермь  \n",
       "tariff_name                  smart        smart  smart   smart   smart  smart  \n",
       "rub_monthly_fee                550          550    550     550     550    550  \n",
       "month                         9.00        10.00   9.00   10.00   11.00  12.00  \n",
       "minutes_included               500          500    500     500     500    500  \n",
       "duration                    471.00       247.00  70.00  449.00  612.00 492.00  \n",
       "calls_count                  59.00        41.00   9.00   68.00   74.00  69.00  \n",
       "rub_per_minute                   3            3      3       3       3      3  \n",
       "messages_included               50           50     50      50      50     50  \n",
       "message_count                44.00        42.00  11.00   48.00   59.00  66.00  \n",
       "rub_per_message                  3            3      3       3       3      3  \n",
       "gb_per_month_included        15.00        15.00  15.00   15.00   15.00  15.00  \n",
       "gb_used                      22.00        21.00   2.00   18.00   18.00  13.00  \n",
       "rub_per_gb                     200          200    200     200     200    200  \n",
       "revenue                    1950.00      1750.00 550.00 1150.00 1513.00 598.00  "
      ]
     },
     "execution_count": 30,
     "metadata": {},
     "output_type": "execute_result"
    }
   ],
   "source": [
    "# считаем стоимость минут сверх тарифа\n",
    "\n",
    "def min_over(df):\n",
    "    if df.duration > df.minutes_included:\n",
    "        min_over_sum = (df.duration - df.minutes_included) * df.rub_per_minute\n",
    "        return min_over_sum\n",
    "    return 0\n",
    " \n",
    "    \n",
    "# считаем стоимость сообщений сверх тарифа\n",
    "\n",
    "def mes_over(df):\n",
    "    if df.message_count > df.messages_included:\n",
    "        mes_over_sum = (df.message_count - df.messages_included) * df.rub_per_message\n",
    "        return mes_over_sum\n",
    "    return 0\n",
    "\n",
    "\n",
    "# считаем стоимость использованных гигабайт сверх тарифа\n",
    "\n",
    "def gb_over(df):\n",
    "    if df.gb_used > df.gb_per_month_included:\n",
    "        gb_over_sum = (df.gb_used - df.gb_per_month_included) * df.rub_per_gb\n",
    "        return gb_over_sum\n",
    "    return 0\n",
    "\n",
    "\n",
    "# суммируем выручку: сумму минут, сообщений и гигабайт сверх тарифа, а также стоимость самого тарифа\n",
    "\n",
    "def revenue(df):\n",
    "    sum_over = min_over(df) + mes_over(df) + gb_over(df) + df.rub_monthly_fee\n",
    "    return sum_over\n",
    "\n",
    "\n",
    "# выделяем выручку по каждому пользователю в отдельный столбец\n",
    "\n",
    "df['revenue'] = df.apply(revenue, axis=1)\n",
    "\n",
    "df.tail(10).T"
   ]
  },
  {
   "cell_type": "markdown",
   "metadata": {},
   "source": [
    "Для удобства сравнения показателей двух тарифов, выделим данные по каждому из них в отдельные датафреймы"
   ]
  },
  {
   "cell_type": "code",
   "execution_count": 31,
   "metadata": {},
   "outputs": [],
   "source": [
    "df_smart = df[df['tariff_name'] == \"smart\"].reset_index(drop=True)\n",
    "df_ultra = df[df['tariff_name'] == \"ultra\"].reset_index(drop=True)"
   ]
  },
  {
   "cell_type": "markdown",
   "metadata": {},
   "source": [
    "##### Вывод:\n",
    "\n",
    "В результате предварительной обработки мы:    \n",
    "1. заменили типы данных в столбцах с датами,   \n",
    "2. округлили секунды до минут и мегабайты до гигабайт и перевели мегабайты в гигабайты,  \n",
    "3. объединили все датафремы в один и выделили из него необходимые для последующего анализа столбцы, а также выделили 2 отдельных датафрейма со всей информацией по каждому из тарифов,  \n",
    "4. заполнили пропуски в объединённом датафрейме нулевыми значениями,  \n",
    "5. посчитали для каждого пользователя:  \n",
    "    - количество сделанных звонков и израсходованных минут разговора по месяцам,  \n",
    "    - количество отправленных сообщений по месяцам,  \n",
    "    - объем израсходованного интернет-трафика по месяцам,  \n",
    "    - помесячную выручку с каждого пользователя."
   ]
  },
  {
   "cell_type": "markdown",
   "metadata": {},
   "source": [
    "### Исследовательский анализ"
   ]
  },
  {
   "cell_type": "markdown",
   "metadata": {},
   "source": [
    "Сравним поведение клиентов исходя из выборки: сколько им требуется минут, сообщений и интернет-трафика в месяц по каждому из тарифов.  \n",
    "Найдём среднюю выручку, дисперсию и стандартное отклонение по каждому из тарифов и сравним их между собой."
   ]
  },
  {
   "cell_type": "markdown",
   "metadata": {},
   "source": [
    "##### Сравнительные гистограммы по каждому из показателей"
   ]
  },
  {
   "cell_type": "code",
   "execution_count": 32,
   "metadata": {},
   "outputs": [
    {
     "name": "stdout",
     "output_type": "stream",
     "text": [
      "Количество пользователей тарифа \"Смарт\": 351\n",
      "Количество пользователей тарифа \"Ультра\": 149\n"
     ]
    }
   ],
   "source": [
    "print('Количество пользователей тарифа \"Смарт\":', len(df_smart.user_id.unique()))\n",
    "print('Количество пользователей тарифа \"Ультра\":', len(df_ultra.user_id.unique()))"
   ]
  },
  {
   "cell_type": "code",
   "execution_count": 33,
   "metadata": {},
   "outputs": [],
   "source": [
    "# функция для построения гистограмм и вывода описательных характеристик \n",
    "# по двум тарифам сразу в зависимости от каждого из показателей\n",
    "\n",
    "def hist_two(col1, col2, name):\n",
    "    ax=col1.plot(\n",
    "        kind='hist',\n",
    "        bins=50,\n",
    "        label='smart',\n",
    "        legend=True,\n",
    "        alpha=0.7,\n",
    "        figsize=(10, 5),\n",
    "        range=(0, col1.max()),\n",
    "    );\n",
    "\n",
    "    col2.plot(\n",
    "        kind='hist',\n",
    "        bins=50,\n",
    "        label='ultra',\n",
    "        legend=True,\n",
    "        alpha=0.7,\n",
    "        grid=True,\n",
    "        figsize=(10, 5),\n",
    "        range=(0, col2.max()),\n",
    "        title=name);\n",
    "    \n",
    "    smart_inf = display('Смарт', col1.describe());\n",
    "    ultra_inf = display('Ультра', col2.describe());\n",
    "    return smart_inf, ultra_inf\n",
    "    "
   ]
  },
  {
   "cell_type": "markdown",
   "metadata": {},
   "source": [
    "**Распределение длительности звонков по каждому из тарифов**"
   ]
  },
  {
   "cell_type": "code",
   "execution_count": 34,
   "metadata": {},
   "outputs": [
    {
     "name": "stdout",
     "output_type": "stream",
     "text": [
      "Длительность звонков:\n",
      "\n"
     ]
    },
    {
     "data": {
      "text/plain": [
       "'Смарт'"
      ]
     },
     "metadata": {},
     "output_type": "display_data"
    },
    {
     "data": {
      "text/plain": [
       "count   2230.00\n",
       "mean     417.75\n",
       "std      190.48\n",
       "min        0.00\n",
       "25%      282.00\n",
       "50%      421.50\n",
       "75%      545.00\n",
       "max     1435.00\n",
       "Name: duration, dtype: float64"
      ]
     },
     "metadata": {},
     "output_type": "display_data"
    },
    {
     "data": {
      "text/plain": [
       "'Ультра'"
      ]
     },
     "metadata": {},
     "output_type": "display_data"
    },
    {
     "data": {
      "text/plain": [
       "count    986.00\n",
       "mean     526.09\n",
       "std      317.89\n",
       "min        0.00\n",
       "25%      282.50\n",
       "50%      518.00\n",
       "75%      751.75\n",
       "max     1673.00\n",
       "Name: duration, dtype: float64"
      ]
     },
     "metadata": {},
     "output_type": "display_data"
    },
    {
     "data": {
      "text/plain": [
       "(None, None)"
      ]
     },
     "execution_count": 34,
     "metadata": {},
     "output_type": "execute_result"
    },
    {
     "data": {
      "image/png": "[encoded data removed]",
      "text/plain": [
       "<Figure size 720x360 with 1 Axes>"
      ]
     },
     "metadata": {
      "needs_background": "light"
     },
     "output_type": "display_data"
    }
   ],
   "source": [
    "print('Длительность звонков:');\n",
    "print();\n",
    "hist_two(df_smart.duration, df_ultra.duration, 'Распределение длительности звонков')"
   ]
  },
  {
   "cell_type": "markdown",
   "metadata": {},
   "source": [
    "Распределение обеих гистограмм можно назвать нормальным, то есть можно говорить о том, что в представленной выборке нет явных аномалий.\n",
    "\n",
    "Пользователей тарифа \"Смарт\" (351 чел.) почти в 2,5 раза больше пользователей тарифа \"Ультра\" (149 чел.). При этом пользователи \"Смарт\" в основном разговаривают по 400-550 минут в месяц, тогда как пользователи \"Ультра\" - от 250 до 850 минут в месяц. В обоих тарифах наблюдается значительное количество нулевых разговоров - это не аномалии, сегодня многие предпочитают больше использовать мессенджеры для звонков.  \n",
    "\n",
    "Характерно, что в пакет \"Смарт\" включено 500 минут разговоров - их в основном и пытаются использовать по максимуму, после этой отметки звонков меньше. При этом в пакет \"Ультра\" включено аж 3000 минут, при этом ни один клиент не использует их полностью - максимум 1750 минут."
   ]
  },
  {
   "cell_type": "markdown",
   "metadata": {},
   "source": [
    "**Распределение количества сообщений по каждому из тарифов**"
   ]
  },
  {
   "cell_type": "code",
   "execution_count": 35,
   "metadata": {},
   "outputs": [
    {
     "name": "stdout",
     "output_type": "stream",
     "text": [
      "Количество сообщений:\n",
      "\n"
     ]
    },
    {
     "data": {
      "text/plain": [
       "'Смарт'"
      ]
     },
     "metadata": {},
     "output_type": "display_data"
    },
    {
     "data": {
      "text/plain": [
       "count   2230.00\n",
       "mean      33.37\n",
       "std       28.23\n",
       "min        0.00\n",
       "25%       10.00\n",
       "50%       28.00\n",
       "75%       51.00\n",
       "max      143.00\n",
       "Name: message_count, dtype: float64"
      ]
     },
     "metadata": {},
     "output_type": "display_data"
    },
    {
     "data": {
      "text/plain": [
       "'Ультра'"
      ]
     },
     "metadata": {},
     "output_type": "display_data"
    },
    {
     "data": {
      "text/plain": [
       "count   986.00\n",
       "mean     49.31\n",
       "std      47.81\n",
       "min       0.00\n",
       "25%       6.00\n",
       "50%      38.00\n",
       "75%      78.75\n",
       "max     224.00\n",
       "Name: message_count, dtype: float64"
      ]
     },
     "metadata": {},
     "output_type": "display_data"
    },
    {
     "data": {
      "text/plain": [
       "(None, None)"
      ]
     },
     "execution_count": 35,
     "metadata": {},
     "output_type": "execute_result"
    },
    {
     "data": {
      "image/png": "[encoded data removed]",
      "text/plain": [
       "<Figure size 720x360 with 1 Axes>"
      ]
     },
     "metadata": {
      "needs_background": "light"
     },
     "output_type": "display_data"
    }
   ],
   "source": [
    "print('Количество сообщений:');\n",
    "print();\n",
    "hist_two(df_smart.message_count, df_ultra.message_count, 'Распределение количества сообщений')"
   ]
  },
  {
   "cell_type": "markdown",
   "metadata": {},
   "source": [
    "В категории отправленных сообщений преобладают нулевые показатели. Это объясняется снижением популярности смс-сообщений, которые сегодня практически полностью заменили соц.сети. Вероятно, людям удобнее и выгоднее использовать интернет для общения, нежели смс.  \n",
    "\n",
    "Количество отправленных сообщений пользователями \"Смарт\" вдвое превышает количество сообщений, отправленных пользователями \"Ультра\".  \n",
    "Однако гистограмма тарифа \"Ультра\" более ровная по количеству сообщений, как и в случаях со звонками. Скорее всего это объясняется тем, что в пакет \"Смарт\" включено 50 сообщений, а в тариф \"Ультра\" - 1000. Логично, что люди пытаются по максимуму использовать количество купленных сообщений, не превышая их лимит, чтобы не переплачивать.  \n",
    "Как и в случае с минутами ни один из пользователей \"Ультра\" не использовал полностью пакет из 1000 сообщений, максимум - 224 смс."
   ]
  },
  {
   "cell_type": "markdown",
   "metadata": {},
   "source": [
    "**Распределение использованного интернет-трафика по каждому из тарифов**"
   ]
  },
  {
   "cell_type": "code",
   "execution_count": 36,
   "metadata": {},
   "outputs": [
    {
     "name": "stdout",
     "output_type": "stream",
     "text": [
      "Интернет-трафик:\n",
      "\n"
     ]
    },
    {
     "data": {
      "text/plain": [
       "'Смарт'"
      ]
     },
     "metadata": {},
     "output_type": "display_data"
    },
    {
     "data": {
      "text/plain": [
       "count   2230.00\n",
       "mean      16.32\n",
       "std        5.76\n",
       "min        0.00\n",
       "25%       13.00\n",
       "50%       17.00\n",
       "75%       20.00\n",
       "max       38.00\n",
       "Name: gb_used, dtype: float64"
      ]
     },
     "metadata": {},
     "output_type": "display_data"
    },
    {
     "data": {
      "text/plain": [
       "'Ультра'"
      ]
     },
     "metadata": {},
     "output_type": "display_data"
    },
    {
     "data": {
      "text/plain": [
       "count   986.00\n",
       "mean     19.47\n",
       "std       9.87\n",
       "min       0.00\n",
       "25%      12.00\n",
       "50%      19.00\n",
       "75%      27.00\n",
       "max      49.00\n",
       "Name: gb_used, dtype: float64"
      ]
     },
     "metadata": {},
     "output_type": "display_data"
    },
    {
     "data": {
      "text/plain": [
       "(None, None)"
      ]
     },
     "execution_count": 36,
     "metadata": {},
     "output_type": "execute_result"
    },
    {
     "data": {
      "image/png": "[encoded data removed]",
      "text/plain": [
       "<Figure size 720x360 with 1 Axes>"
      ]
     },
     "metadata": {
      "needs_background": "light"
     },
     "output_type": "display_data"
    }
   ],
   "source": [
    "print('Интернет-трафик:');\n",
    "print();\n",
    "hist_two(df_smart.gb_used, df_ultra.gb_used, 'Распределение объема интернет-траффика')"
   ]
  },
  {
   "cell_type": "markdown",
   "metadata": {},
   "source": [
    "В тарифе \"Смарт\" интернетом пользуется в три раза больше людей, чем в тарифе \"Ультра\". При этом количество используемого трафика в \"Смарт\" варьируется от 15 до 20 гигабайт, тогда как в \"Ультра\" гистограмма практически ровная - в этом тарифе в основном используется более широкий диапазон трафика: от 10 до 30 гигабайт.  \n",
    "\n",
    "Здесь же, в отличие от пакетов минут и смс, пакеты интернет-трафика в обоих тарифах расходуются пользостью и докупаются сверх пакетов."
   ]
  },
  {
   "cell_type": "markdown",
   "metadata": {},
   "source": [
    "Распределение общей выручки по каждому из тарифов"
   ]
  },
  {
   "cell_type": "code",
   "execution_count": 37,
   "metadata": {},
   "outputs": [
    {
     "name": "stdout",
     "output_type": "stream",
     "text": [
      "Общая выручка:\n",
      "\n"
     ]
    },
    {
     "data": {
      "text/plain": [
       "'Смарт'"
      ]
     },
     "metadata": {},
     "output_type": "display_data"
    },
    {
     "data": {
      "text/plain": [
       "count   2230.00\n",
       "mean    1289.64\n",
       "std      818.37\n",
       "min      550.00\n",
       "25%      550.00\n",
       "50%     1021.00\n",
       "75%     1750.00\n",
       "max     6770.00\n",
       "Name: revenue, dtype: float64"
      ]
     },
     "metadata": {},
     "output_type": "display_data"
    },
    {
     "data": {
      "text/plain": [
       "'Ультра'"
      ]
     },
     "metadata": {},
     "output_type": "display_data"
    },
    {
     "data": {
      "text/plain": [
       "count    986.00\n",
       "mean    2070.03\n",
       "std      376.02\n",
       "min     1950.00\n",
       "25%     1950.00\n",
       "50%     1950.00\n",
       "75%     1950.00\n",
       "max     4800.00\n",
       "Name: revenue, dtype: float64"
      ]
     },
     "metadata": {},
     "output_type": "display_data"
    },
    {
     "data": {
      "text/plain": [
       "(None, None)"
      ]
     },
     "execution_count": 37,
     "metadata": {},
     "output_type": "execute_result"
    },
    {
     "data": {
      "image/png": "[encoded data removed]",
      "text/plain": [
       "<Figure size 720x360 with 1 Axes>"
      ]
     },
     "metadata": {
      "needs_background": "light"
     },
     "output_type": "display_data"
    }
   ],
   "source": [
    "print('Общая выручка:');\n",
    "print();\n",
    "hist_two(df_smart.revenue, df_ultra.revenue, 'Распределение общей выручки')"
   ]
  },
  {
   "cell_type": "markdown",
   "metadata": {},
   "source": [
    "Общая выручка в тарифе \"Ультра\" распределена более однородно и практически не имеет выборосов и практически полностью сосредоточена на отметке в почти 2000 рублей.  \n",
    "\n",
    "Выручка в тарифе \"Смарт\" значительно меньше, пик её распределения приходится на отметку в 600-700 рублей и имеет длиный \"хвост\" - вероятно это те самые докупаемые пользователями минуты, смс и гигабайты, которых им нехватает в имеющимся пакете \"Смарт\"."
   ]
  },
  {
   "cell_type": "markdown",
   "metadata": {},
   "source": [
    "##### Вывод"
   ]
  },
  {
   "cell_type": "markdown",
   "metadata": {},
   "source": [
    "**Пользомателей тарифа \"Смарт\" в разы больше пользователей тарифа \"Ультра\". При этом количество потраченных ими минут и сообщений распределено по-разному: в \"Ультра\" соовтетствующие пакеты больше, поэтому их активнее расходуют, тем не менее ни один клиент \"Ультра\" из представленной выборки не использовал полностью пакет минут и смс. При этом ситуация с интернет-трафиком иная - в обоих тарифах пакеты гигабайт используются полностью и даже больше.**  \n",
    "\n",
    "**С учётом вышеизложенного с целью увеличения количества пользователей тарифа \"Ультра\" рекомендуем увеличить количество включённых в пакет гигабайт, поскольку именно интернетом сегодня пользуются чаще и для совершения звонков и для отправки сообщений.**"
   ]
  },
  {
   "cell_type": "markdown",
   "metadata": {},
   "source": [
    "#### Посчитайте среднее количество, дисперсию и стандартное отклонение."
   ]
  },
  {
   "cell_type": "markdown",
   "metadata": {},
   "source": [
    "##### Средняя выручка"
   ]
  },
  {
   "cell_type": "code",
   "execution_count": 38,
   "metadata": {
    "scrolled": true
   },
   "outputs": [
    {
     "name": "stdout",
     "output_type": "stream",
     "text": [
      "Средняя выручка по тарифу \"Смарт\": 1289.64\n",
      "Средняя выручка по тарифу \"Ультра\": 2070.03\n",
      "\"Ультра\" больше \"Смарт\" в 1.6 раз.\n"
     ]
    }
   ],
   "source": [
    "smart_revenue = round(df_smart.revenue.mean(), 2)\n",
    "ultra_revenue = round(df_ultra.revenue.mean(), 2)\n",
    "\n",
    "print('Средняя выручка по тарифу \"Смарт\":', smart_revenue)\n",
    "print('Средняя выручка по тарифу \"Ультра\":', ultra_revenue)\n",
    "\n",
    "if smart_revenue > ultra_revenue:\n",
    "    print('\"Смарт\" больше \"Ультра\" в', round(smart_revenue/ultra_revenue, 1), 'раз.')\n",
    "else:\n",
    "    print('\"Ультра\" больше \"Смарт\" в', round(ultra_revenue/smart_revenue, 1), 'раз.')"
   ]
  },
  {
   "cell_type": "markdown",
   "metadata": {},
   "source": [
    "**Средняя выручка в тарифе \"Ультра\" больше средней выручке в тарифе \"Смарт\" в 1.6 раз.**"
   ]
  },
  {
   "cell_type": "markdown",
   "metadata": {},
   "source": [
    "##### Дисперсия"
   ]
  },
  {
   "cell_type": "code",
   "execution_count": 39,
   "metadata": {},
   "outputs": [],
   "source": [
    "# функция для подсчёта дисперсии по обоим тарифам для каждого из показателей\n",
    "\n",
    "def var(col1, col2):\n",
    "    col1_var = round(np.var(col1, ddof=1), 2)\n",
    "    col2_var = round(np.var(col2, ddof=1), 2)\n",
    "    print('\"Смарт\":', col1_var)\n",
    "    print('\"Ультра\":', col2_var)\n",
    "    \n",
    "    if col1_var > col2_var:\n",
    "        print('\"Смарт\" больше \"Ультра\" в', round(col1_var/col2_var, 1), 'раз.')\n",
    "    else:\n",
    "        print('\"Ультра\" больше \"Смарт\" в', round(col2_var/col1_var, 1), 'раз.')"
   ]
  },
  {
   "cell_type": "markdown",
   "metadata": {},
   "source": [
    "Дисперсия по выручке"
   ]
  },
  {
   "cell_type": "code",
   "execution_count": 40,
   "metadata": {},
   "outputs": [
    {
     "name": "stdout",
     "output_type": "stream",
     "text": [
      "\"Смарт\": 669730.76\n",
      "\"Ультра\": 141387.71\n",
      "\"Смарт\" больше \"Ультра\" в 4.7 раз.\n"
     ]
    }
   ],
   "source": [
    "var(df_smart.revenue, df_ultra.revenue)"
   ]
  },
  {
   "cell_type": "markdown",
   "metadata": {},
   "source": [
    "Дисперсия по продолжительности звонков"
   ]
  },
  {
   "cell_type": "code",
   "execution_count": 41,
   "metadata": {},
   "outputs": [
    {
     "name": "stdout",
     "output_type": "stream",
     "text": [
      "\"Смарт\": 36281.39\n",
      "\"Ультра\": 101052.49\n",
      "\"Ультра\" больше \"Смарт\" в 2.8 раз.\n"
     ]
    }
   ],
   "source": [
    "var(df_smart.duration, df_ultra.duration)"
   ]
  },
  {
   "cell_type": "markdown",
   "metadata": {},
   "source": [
    "Дисперсия количества отправленных сообщений"
   ]
  },
  {
   "cell_type": "code",
   "execution_count": 42,
   "metadata": {},
   "outputs": [
    {
     "name": "stdout",
     "output_type": "stream",
     "text": [
      "\"Смарт\": 796.96\n",
      "\"Ультра\": 2285.42\n",
      "\"Ультра\" больше \"Смарт\" в 2.9 раз.\n"
     ]
    }
   ],
   "source": [
    "var(df_smart.message_count, df_ultra.message_count)"
   ]
  },
  {
   "cell_type": "markdown",
   "metadata": {},
   "source": [
    "Дисперсия интернет-трафика"
   ]
  },
  {
   "cell_type": "code",
   "execution_count": 43,
   "metadata": {},
   "outputs": [
    {
     "name": "stdout",
     "output_type": "stream",
     "text": [
      "\"Смарт\": 33.13\n",
      "\"Ультра\": 97.38\n",
      "\"Ультра\" больше \"Смарт\" в 2.9 раз.\n"
     ]
    }
   ],
   "source": [
    "var(df_smart.gb_used, df_ultra.gb_used)"
   ]
  },
  {
   "cell_type": "markdown",
   "metadata": {},
   "source": [
    "**Дисперсия по всем показателям у обоих тарифов очень высокие, что говорит о большой разбросанности значений в выборке**  \n",
    "**При этом в при сравнении двух тарифов видно, что дисперсия тарифа \"Ультра\" в 2.8 - 2.9 раз выше, чем дисперсия тарифа \"Смарт\". Однако в сравнении дисперсий выручки всё с точностью до наоборот: дисперсия \"Смарт\" аж в 4.7 раза выше дисперсии \"Ультра\".**"
   ]
  },
  {
   "cell_type": "markdown",
   "metadata": {},
   "source": [
    "##### Стандартное отклонение"
   ]
  },
  {
   "cell_type": "code",
   "execution_count": 44,
   "metadata": {},
   "outputs": [],
   "source": [
    "# функция для подсчёта стандартного отклонения по обоим тарифам для каждого из показателей\n",
    "\n",
    "def std(col1, col2):\n",
    "    col1_std = round(np.std(col1, ddof=1), 2)\n",
    "    col2_std = round(np.std(col2, ddof=1), 2)\n",
    "    print('\"Смарт\":', col1_std)\n",
    "    print('\"Ультра\":', col2_std)\n",
    "    \n",
    "    if col1_std > col2_std:\n",
    "        print('\"Смарт\" больше \"Ультра\" в', round(col1_std/col2_std, 1), 'раз.')\n",
    "    else:\n",
    "        print('\"Ультра\" больше \"Смарт\" в', round(col2_std/col1_std, 1), 'раз.')"
   ]
  },
  {
   "cell_type": "markdown",
   "metadata": {},
   "source": [
    "Стандартное отклонение по выручке"
   ]
  },
  {
   "cell_type": "code",
   "execution_count": 45,
   "metadata": {},
   "outputs": [
    {
     "name": "stdout",
     "output_type": "stream",
     "text": [
      "\"Смарт\": 818.37\n",
      "\"Ультра\": 376.02\n",
      "\"Смарт\" больше \"Ультра\" в 2.2 раз.\n"
     ]
    }
   ],
   "source": [
    "std(df_smart.revenue, df_ultra.revenue)"
   ]
  },
  {
   "cell_type": "markdown",
   "metadata": {},
   "source": [
    "Стандартное отклонение по продолжительности звонков"
   ]
  },
  {
   "cell_type": "code",
   "execution_count": 46,
   "metadata": {},
   "outputs": [
    {
     "name": "stdout",
     "output_type": "stream",
     "text": [
      "\"Смарт\": 190.48\n",
      "\"Ультра\": 317.89\n",
      "\"Ультра\" больше \"Смарт\" в 1.7 раз.\n"
     ]
    }
   ],
   "source": [
    "std(df_smart.duration, df_ultra.duration)"
   ]
  },
  {
   "cell_type": "markdown",
   "metadata": {},
   "source": [
    "Стандартное отклонение количества отправленных сообщений"
   ]
  },
  {
   "cell_type": "code",
   "execution_count": 47,
   "metadata": {},
   "outputs": [
    {
     "name": "stdout",
     "output_type": "stream",
     "text": [
      "\"Смарт\": 28.23\n",
      "\"Ультра\": 47.81\n",
      "\"Ультра\" больше \"Смарт\" в 1.7 раз.\n"
     ]
    }
   ],
   "source": [
    "std(df_smart.message_count, df_ultra.message_count)"
   ]
  },
  {
   "cell_type": "markdown",
   "metadata": {},
   "source": [
    "Стандартное отклонение интернет-трафика"
   ]
  },
  {
   "cell_type": "code",
   "execution_count": 48,
   "metadata": {},
   "outputs": [
    {
     "name": "stdout",
     "output_type": "stream",
     "text": [
      "\"Смарт\": 5.76\n",
      "\"Ультра\": 9.87\n",
      "\"Ультра\" больше \"Смарт\" в 1.7 раз.\n"
     ]
    }
   ],
   "source": [
    "std(df_smart.gb_used, df_ultra.gb_used)"
   ]
  },
  {
   "cell_type": "markdown",
   "metadata": {},
   "source": [
    "**Анализ показывает, что по каждому из трёх показателей (длительность звонков, количество сообщений и интернет-трафик), стандартное отклонение в тарифе \"Ультра\" в 1.7 раз больше, чем в тарифе \"Смарт\".**  \n",
    "**При этом стандартное отклонение выручки, напротив, в тарифе \"Смарт\" в 2.2 раза больше, чем в тарифе \"Ультра.**\n",
    "\n",
    "**Таким образом, в обоих тарифах большие показатели стандартного отклонения, то есть случайные величины в них распределены далеко от среднего значения.**"
   ]
  },
  {
   "cell_type": "markdown",
   "metadata": {},
   "source": [
    "#### Вывод"
   ]
  },
  {
   "cell_type": "markdown",
   "metadata": {},
   "source": [
    "Средняя выручка в тарифе \"Ультра\" в больше средней выручки в тарифе \"Смарт\" в 1.6 раз.  \n",
    "\n",
    "При этом разбросанность значений каждого из показателей (звонки, сообщения, интернет-трафик) выше в тарифе \"Смарт\".  \n",
    "\n",
    "Полагаем, это связанно с условиями тарифов: в тарифе \"Смарт\" меньше включённых минут, сообщений и гигабайт, чем в тарифе \"Ультра\", а пользователи \"Смарт\" по факту тратят больше минут, сообщений и интернета, поэтому им приходится чаще докупать необходимые пакеты.  \n",
    "\n",
    "В тарифе \"Ультра\", напротив, так много включённых минут, сообщений и гигабайт, что они практически не расходуются полностью.\n",
    "\n",
    "Получается, что тариф \"Ультра\" приносит компании больше прибыли, поскольку имеет изначально большие и редко полностью расходуемые пакеты, которые стоят дороже, чем пакеты \"Смарт\"."
   ]
  },
  {
   "cell_type": "markdown",
   "metadata": {},
   "source": [
    "### Проверка гипотез"
   ]
  },
  {
   "cell_type": "markdown",
   "metadata": {},
   "source": [
    "#### Гипотеза № 1: средняя выручка пользователей тарифов «Ультра» и «Смарт» различаются"
   ]
  },
  {
   "cell_type": "markdown",
   "metadata": {},
   "source": [
    "Сформулируем нулевую гипотезу о равенстве средней выручки пользователей тарифов \"Ультра\" и \"Смарт\" и альтернативную гипотезу - об их различии:  \n",
    "\n",
    "*Нулевая гипотеза: средняя выручка пользователей тарифов «Ультра» и «Смарт» одинаковы.*  \n",
    "*Альтернативная гипотеза: средняя выручка пользователей тарифов «Ультра» и «Смарт» различаются.*"
   ]
  },
  {
   "cell_type": "code",
   "execution_count": 49,
   "metadata": {},
   "outputs": [
    {
     "name": "stdout",
     "output_type": "stream",
     "text": [
      "p-значение: 1.927011394420941e-250\n",
      "Отвергаем нулевую гипотезу: выручки тарифов не равны.\n"
     ]
    }
   ],
   "source": [
    "alpha = 0.01\n",
    "\n",
    "ultra = df_ultra['revenue']\n",
    "smart = df_smart['revenue']\n",
    "\n",
    "results = st.ttest_ind(ultra, smart, equal_var=False)\n",
    "\n",
    "print('p-значение:', results.pvalue)\n",
    "\n",
    "if results.pvalue < alpha:\n",
    "    print(\"Отвергаем нулевую гипотезу: выручки тарифов не равны.\")\n",
    "else:\n",
    "    print(\"Не получилось отвергнуть нулевую гипотезу о равенстве выручки тарифов.\")"
   ]
  },
  {
   "cell_type": "markdown",
   "metadata": {},
   "source": [
    "##### Вывод"
   ]
  },
  {
   "cell_type": "markdown",
   "metadata": {},
   "source": [
    "Для проверки гипотез мы применили t-тест методом scipy.stats.ttest_ind() из библиотеки scipy.  \n",
    "Критический уровень статистической значимости alpha приняли в качестве 0.01. Но и при более мягком уровне этого критерия в 0.05 результат был бы аналогичным.  \n",
    "Также мы применили параметр equal_var=False, поскольку нам уже известно, что выборки отличаются и по среднему, и по дисперсии. Это достаточный повод, чтобы посчитать выборочные дисперсии по отдельности и указать, что они не равны.\n",
    "\n",
    "По результатам проведённого t-теста мы отвергли нулевую гипотезу о равенстве средней выручки двух тарифов в пользу альтернативной гипотезы о том, что выручка по тарифам различается. Такой вывод соовтетствует данным о средней выручке, полученным нами выше.  "
   ]
  },
  {
   "cell_type": "markdown",
   "metadata": {},
   "source": [
    "#### Гипотеза № 2: средняя выручка пользователей из Москвы отличается от выручки пользователей из других регионов"
   ]
  },
  {
   "cell_type": "markdown",
   "metadata": {},
   "source": [
    "Сформулируем нулевую гипотезу о равенстве средней выручки пользователей из Москвы и пользователей из других регионов и альтернативную гипотезу - об их различии:  \n",
    "\n",
    "*Нулевая гипотеза: средняя выручка пользователей из Москвы равна выручке пользователей из других регионов.*  \n",
    "*Альтернативная гипотеза: средняя выручка пользователей из Москвы отличается от выручки пользователей из других регионов.*"
   ]
  },
  {
   "cell_type": "code",
   "execution_count": 50,
   "metadata": {},
   "outputs": [
    {
     "name": "stdout",
     "output_type": "stream",
     "text": [
      "p-значение: 0.5216952110000278\n",
      "Не получилось отвергнуть нулевую гипотезу о равенстве выручки Москвы и других регионов.\n"
     ]
    }
   ],
   "source": [
    "alpha = 0.01\n",
    "\n",
    "df_msk = df.query('city == \"Москва\"')\n",
    "df_regions = df.query('city != \"Москва\"')\n",
    "\n",
    "msk = df_msk['revenue']\n",
    "regions = df_regions['revenue']\n",
    "\n",
    "results = st.ttest_ind(msk, regions, equal_var=False)\n",
    "\n",
    "print('p-значение:', results.pvalue)\n",
    "\n",
    "if results.pvalue < alpha:\n",
    "    print(\"Отвергаем нулевую гипотезу: выручка Москвы отличается от выручки других регионов.\")\n",
    "else:\n",
    "    print(\"Не получилось отвергнуть нулевую гипотезу о равенстве выручки Москвы и других регионов.\")"
   ]
  },
  {
   "cell_type": "markdown",
   "metadata": {},
   "source": [
    "##### Вывод"
   ]
  },
  {
   "cell_type": "markdown",
   "metadata": {},
   "source": [
    "Для проверки гипотез мы применили t-тест методом scipy.stats.ttest_ind() из библиотеки scipy.  \n",
    "Критический уровень статистической значимости alpha приняли в качестве 0.01. Но и при более мягком уровне этого критерия в 0.05 результат был бы аналогичным.\n",
    "\n",
    "По результатам проведённого t-теста мы не смогли отвергнуть нулевую гипотезу о равенстве средней выручки в Москве и других регионах.  \n",
    "\n",
    "Полученное значение p-value говорит о том, что вероятность получить такое или большее различие случайно более чем в 50%. Это явно слишком большая вероятность, чтобы делать вывод о значимом различии между выручками столицы и регионов."
   ]
  },
  {
   "cell_type": "markdown",
   "metadata": {},
   "source": [
    "### Общий вывод"
   ]
  },
  {
   "cell_type": "markdown",
   "metadata": {},
   "source": [
    "Мы проанализировали поведение клиентов, пользующихся тарифами \"Смарт\" и \"Ультра\", на выборке в 500 человек.\n",
    "\n",
    "Выяснилось, что пользователей тарифа \"Смарт\" (351 чел.) почти в 2,5 раза больше пользователей тарифа \"Ультра\" (149 чел.). При этом количество потраченных ими минут и сообщений распределено по-разному: в \"Ультра\" соовтетствующие пакеты больше, поэтому их активнее расходуют: 250-850 минут и до 100 сообщений в месяц в тарифе \"Ультра\" против 500-550 минут и 50 сообщений в тарифе \"Смарт\". Тем не менее ни один клиент \"Ультра\" из представленной выборки не использовал полностью пакет минут и смс. При этом пакеты гигабайт расходуются в обоих тарифах сверх пакета: часто расходуемый трафик в \"Смарт\" 15 - 20 Гб, в \"Ультра\" 10 - 30 Гб. Отметим преобладающее количество нулевых сообщений в обоих тарифах - смс не пользуются популярностью у клиентов.  \n",
    "\n",
    "Мы определи, что более прибыльным для компании является тариф \"Ультра\" - его средняя выручка в 1.6 раза больше средней выручки в тарифе \"Смарт\", поскольку имеет изначально большие и редко полностью расходуемые пакеты, которые стоят дороже, чем пакеты \"Смарт\".  \n",
    "\n",
    "По результатам проверки гипотез мы выяснили, что:  \n",
    "- средняя выручка пользователей тарифов «Ультра» и «Смарт» различаются, \n",
    "- средняя выручка пользователей из Москвы равна выручке пользователей из других регионов."
   ]
  }
 ],
 "metadata": {
  "ExecuteTimeLog": [
   {
    "duration": 74,
    "start_time": "2022-03-07T19:48:55.720Z"
   },
   {
    "duration": 295,
    "start_time": "2022-03-07T19:51:27.176Z"
   },
   {
    "duration": 706,
    "start_time": "2022-03-07T19:52:28.433Z"
   },
   {
    "duration": 115,
    "start_time": "2022-03-07T19:52:29.141Z"
   },
   {
    "duration": 4,
    "start_time": "2022-03-07T19:52:29.259Z"
   },
   {
    "duration": 17,
    "start_time": "2022-03-07T19:52:29.265Z"
   },
   {
    "duration": 450,
    "start_time": "2022-03-07T19:52:29.285Z"
   },
   {
    "duration": 4,
    "start_time": "2022-03-07T19:52:29.737Z"
   },
   {
    "duration": 8,
    "start_time": "2022-03-07T19:52:29.743Z"
   },
   {
    "duration": 358,
    "start_time": "2022-03-07T19:52:29.755Z"
   },
   {
    "duration": 315,
    "start_time": "2022-03-07T19:52:30.116Z"
   },
   {
    "duration": 260,
    "start_time": "2022-03-07T19:52:30.434Z"
   },
   {
    "duration": 170,
    "start_time": "2022-03-07T19:52:30.696Z"
   },
   {
    "duration": 175,
    "start_time": "2022-03-07T19:52:30.869Z"
   },
   {
    "duration": 5,
    "start_time": "2022-03-07T19:52:31.046Z"
   },
   {
    "duration": 187,
    "start_time": "2022-03-07T19:52:31.053Z"
   },
   {
    "duration": 141,
    "start_time": "2022-03-07T19:52:31.242Z"
   },
   {
    "duration": 97,
    "start_time": "2022-03-07T19:52:31.386Z"
   },
   {
    "duration": 24,
    "start_time": "2022-03-07T19:52:31.485Z"
   },
   {
    "duration": 26,
    "start_time": "2022-03-07T19:52:31.512Z"
   },
   {
    "duration": 19,
    "start_time": "2022-03-07T19:52:31.583Z"
   },
   {
    "duration": 123,
    "start_time": "2022-03-07T19:52:31.605Z"
   },
   {
    "duration": 83,
    "start_time": "2022-03-07T19:52:31.731Z"
   },
   {
    "duration": 13,
    "start_time": "2022-03-07T19:52:31.817Z"
   },
   {
    "duration": 124,
    "start_time": "2022-03-07T19:52:31.836Z"
   },
   {
    "duration": 78,
    "start_time": "2022-03-07T19:52:31.963Z"
   },
   {
    "duration": 10,
    "start_time": "2022-03-07T19:52:32.043Z"
   },
   {
    "duration": 31,
    "start_time": "2022-03-07T19:52:32.056Z"
   },
   {
    "duration": 13,
    "start_time": "2022-03-07T19:52:32.089Z"
   },
   {
    "duration": 13,
    "start_time": "2022-03-07T19:52:32.104Z"
   },
   {
    "duration": 66,
    "start_time": "2022-03-07T19:52:32.119Z"
   },
   {
    "duration": 33,
    "start_time": "2022-03-07T19:52:32.187Z"
   },
   {
    "duration": 7,
    "start_time": "2022-03-07T19:52:32.224Z"
   },
   {
    "duration": 121,
    "start_time": "2022-03-07T19:52:32.234Z"
   },
   {
    "duration": 34,
    "start_time": "2022-03-07T19:52:32.357Z"
   },
   {
    "duration": 238,
    "start_time": "2022-03-07T19:52:32.394Z"
   },
   {
    "duration": 701,
    "start_time": "2022-03-07T19:52:32.635Z"
   },
   {
    "duration": 10,
    "start_time": "2022-03-07T19:52:33.338Z"
   },
   {
    "duration": 12,
    "start_time": "2022-03-07T19:52:33.351Z"
   },
   {
    "duration": 975,
    "start_time": "2022-03-07T19:52:33.366Z"
   },
   {
    "duration": 810,
    "start_time": "2022-03-07T19:52:34.344Z"
   },
   {
    "duration": 833,
    "start_time": "2022-03-07T19:52:35.157Z"
   },
   {
    "duration": 878,
    "start_time": "2022-03-07T19:52:35.993Z"
   },
   {
    "duration": 12,
    "start_time": "2022-03-07T19:52:36.874Z"
   },
   {
    "duration": 24,
    "start_time": "2022-03-07T19:52:36.889Z"
   },
   {
    "duration": 16,
    "start_time": "2022-03-07T19:52:36.917Z"
   },
   {
    "duration": 7,
    "start_time": "2022-03-07T19:52:36.935Z"
   },
   {
    "duration": 10,
    "start_time": "2022-03-07T19:52:36.945Z"
   },
   {
    "duration": 27,
    "start_time": "2022-03-07T19:52:36.957Z"
   },
   {
    "duration": 30,
    "start_time": "2022-03-07T19:52:36.987Z"
   },
   {
    "duration": 17,
    "start_time": "2022-03-07T19:52:37.019Z"
   },
   {
    "duration": 10,
    "start_time": "2022-03-07T19:52:37.039Z"
   },
   {
    "duration": 15,
    "start_time": "2022-03-07T19:52:37.052Z"
   },
   {
    "duration": 21,
    "start_time": "2022-03-07T19:52:37.070Z"
   },
   {
    "duration": 14,
    "start_time": "2022-03-07T19:52:37.094Z"
   },
   {
    "duration": 52,
    "start_time": "2022-03-07T19:52:37.111Z"
   },
   {
    "duration": 75,
    "start_time": "2022-03-07T19:53:37.966Z"
   },
   {
    "duration": 7,
    "start_time": "2022-03-07T19:57:28.537Z"
   },
   {
    "duration": 14,
    "start_time": "2022-03-07T20:00:00.428Z"
   },
   {
    "duration": 79,
    "start_time": "2022-03-07T20:05:36.791Z"
   },
   {
    "duration": 5,
    "start_time": "2022-03-07T20:08:41.495Z"
   },
   {
    "duration": 423,
    "start_time": "2022-03-07T20:09:41.392Z"
   },
   {
    "duration": 53,
    "start_time": "2022-03-07T20:10:00.464Z"
   },
   {
    "duration": 89,
    "start_time": "2022-03-07T20:11:37.933Z"
   },
   {
    "duration": 50,
    "start_time": "2022-03-07T20:11:53.093Z"
   },
   {
    "duration": 119,
    "start_time": "2022-03-07T20:12:20.582Z"
   },
   {
    "duration": 4,
    "start_time": "2022-03-07T20:12:28.345Z"
   },
   {
    "duration": 257,
    "start_time": "2022-03-07T20:12:55.432Z"
   },
   {
    "duration": 2168,
    "start_time": "2022-03-07T20:13:01.640Z"
   },
   {
    "duration": 288,
    "start_time": "2022-03-07T20:13:27.433Z"
   },
   {
    "duration": 117,
    "start_time": "2022-03-07T20:13:58.659Z"
   },
   {
    "duration": 43,
    "start_time": "2022-03-07T20:14:01.762Z"
   },
   {
    "duration": 41,
    "start_time": "2022-03-07T20:14:06.291Z"
   },
   {
    "duration": 247,
    "start_time": "2022-03-07T20:14:34.338Z"
   },
   {
    "duration": 348,
    "start_time": "2022-03-07T20:14:56.205Z"
   },
   {
    "duration": 88,
    "start_time": "2022-03-07T20:26:46.130Z"
   },
   {
    "duration": 4,
    "start_time": "2022-03-07T20:26:53.822Z"
   },
   {
    "duration": 48,
    "start_time": "2022-03-07T20:26:54.813Z"
   },
   {
    "duration": 49,
    "start_time": "2022-03-07T20:27:10.215Z"
   },
   {
    "duration": 690,
    "start_time": "2022-03-07T20:27:17.022Z"
   },
   {
    "duration": 118,
    "start_time": "2022-03-07T20:27:17.715Z"
   },
   {
    "duration": 3,
    "start_time": "2022-03-07T20:27:17.836Z"
   },
   {
    "duration": 6,
    "start_time": "2022-03-07T20:27:17.842Z"
   },
   {
    "duration": 488,
    "start_time": "2022-03-07T20:27:17.850Z"
   },
   {
    "duration": 3,
    "start_time": "2022-03-07T20:27:18.341Z"
   },
   {
    "duration": 15,
    "start_time": "2022-03-07T20:27:18.347Z"
   },
   {
    "duration": 354,
    "start_time": "2022-03-07T20:27:18.364Z"
   },
   {
    "duration": 307,
    "start_time": "2022-03-07T20:27:18.723Z"
   },
   {
    "duration": 249,
    "start_time": "2022-03-07T20:27:19.033Z"
   },
   {
    "duration": 158,
    "start_time": "2022-03-07T20:27:19.284Z"
   },
   {
    "duration": 158,
    "start_time": "2022-03-07T20:27:19.445Z"
   },
   {
    "duration": 5,
    "start_time": "2022-03-07T20:27:19.606Z"
   },
   {
    "duration": 169,
    "start_time": "2022-03-07T20:27:19.615Z"
   },
   {
    "duration": 150,
    "start_time": "2022-03-07T20:27:19.787Z"
   },
   {
    "duration": 94,
    "start_time": "2022-03-07T20:27:19.940Z"
   },
   {
    "duration": 23,
    "start_time": "2022-03-07T20:27:20.038Z"
   },
   {
    "duration": 30,
    "start_time": "2022-03-07T20:27:20.083Z"
   },
   {
    "duration": 19,
    "start_time": "2022-03-07T20:27:20.116Z"
   },
   {
    "duration": 155,
    "start_time": "2022-03-07T20:27:20.138Z"
   },
   {
    "duration": 87,
    "start_time": "2022-03-07T20:27:20.295Z"
   },
   {
    "duration": 13,
    "start_time": "2022-03-07T20:27:20.384Z"
   },
   {
    "duration": 127,
    "start_time": "2022-03-07T20:27:20.400Z"
   },
   {
    "duration": 88,
    "start_time": "2022-03-07T20:27:20.530Z"
   },
   {
    "duration": 12,
    "start_time": "2022-03-07T20:27:20.621Z"
   },
   {
    "duration": 16,
    "start_time": "2022-03-07T20:27:20.636Z"
   },
   {
    "duration": 13,
    "start_time": "2022-03-07T20:27:20.684Z"
   },
   {
    "duration": 16,
    "start_time": "2022-03-07T20:27:20.702Z"
   },
   {
    "duration": 63,
    "start_time": "2022-03-07T20:27:20.721Z"
   },
   {
    "duration": 34,
    "start_time": "2022-03-07T20:27:20.787Z"
   },
   {
    "duration": 7,
    "start_time": "2022-03-07T20:27:20.824Z"
   },
   {
    "duration": 110,
    "start_time": "2022-03-07T20:27:20.834Z"
   },
   {
    "duration": 45,
    "start_time": "2022-03-07T20:27:20.947Z"
   },
   {
    "duration": 306,
    "start_time": "2022-03-07T20:27:20.995Z"
   },
   {
    "duration": 1001,
    "start_time": "2022-03-07T20:27:21.304Z"
   },
   {
    "duration": 9,
    "start_time": "2022-03-07T20:27:22.307Z"
   },
   {
    "duration": 7,
    "start_time": "2022-03-07T20:27:22.318Z"
   },
   {
    "duration": 792,
    "start_time": "2022-03-07T20:27:22.327Z"
   },
   {
    "duration": 738,
    "start_time": "2022-03-07T20:27:23.123Z"
   },
   {
    "duration": 751,
    "start_time": "2022-03-07T20:27:23.864Z"
   },
   {
    "duration": 822,
    "start_time": "2022-03-07T20:27:24.617Z"
   },
   {
    "duration": 10,
    "start_time": "2022-03-07T20:27:25.441Z"
   },
   {
    "duration": 29,
    "start_time": "2022-03-07T20:27:25.453Z"
   },
   {
    "duration": 23,
    "start_time": "2022-03-07T20:27:25.485Z"
   },
   {
    "duration": 9,
    "start_time": "2022-03-07T20:27:25.510Z"
   },
   {
    "duration": 13,
    "start_time": "2022-03-07T20:27:25.522Z"
   },
   {
    "duration": 7,
    "start_time": "2022-03-07T20:27:25.538Z"
   },
   {
    "duration": 12,
    "start_time": "2022-03-07T20:27:25.548Z"
   },
   {
    "duration": 23,
    "start_time": "2022-03-07T20:27:25.563Z"
   },
   {
    "duration": 6,
    "start_time": "2022-03-07T20:27:25.589Z"
   },
   {
    "duration": 7,
    "start_time": "2022-03-07T20:27:25.598Z"
   },
   {
    "duration": 7,
    "start_time": "2022-03-07T20:27:25.608Z"
   },
   {
    "duration": 103,
    "start_time": "2022-03-07T20:27:25.618Z"
   },
   {
    "duration": 7,
    "start_time": "2022-03-07T20:27:25.724Z"
   },
   {
    "duration": 24,
    "start_time": "2022-03-07T20:27:25.734Z"
   },
   {
    "duration": 39,
    "start_time": "2022-03-07T20:27:25.782Z"
   },
   {
    "duration": 371,
    "start_time": "2022-03-07T20:27:25.823Z"
   },
   {
    "duration": 125,
    "start_time": "2022-03-07T20:27:26.197Z"
   },
   {
    "duration": 2312,
    "start_time": "2022-03-07T20:27:26.324Z"
   },
   {
    "duration": 48,
    "start_time": "2022-03-07T20:28:11.695Z"
   },
   {
    "duration": 82,
    "start_time": "2022-03-09T09:34:17.786Z"
   },
   {
    "duration": 310,
    "start_time": "2022-03-09T09:35:27.615Z"
   },
   {
    "duration": 718,
    "start_time": "2022-03-09T09:35:33.091Z"
   },
   {
    "duration": 119,
    "start_time": "2022-03-09T09:35:33.811Z"
   },
   {
    "duration": 3,
    "start_time": "2022-03-09T09:35:33.933Z"
   },
   {
    "duration": 4,
    "start_time": "2022-03-09T09:35:33.951Z"
   },
   {
    "duration": 489,
    "start_time": "2022-03-09T09:35:33.958Z"
   },
   {
    "duration": 4,
    "start_time": "2022-03-09T09:35:34.451Z"
   },
   {
    "duration": 5,
    "start_time": "2022-03-09T09:35:34.458Z"
   },
   {
    "duration": 414,
    "start_time": "2022-03-09T09:35:34.467Z"
   },
   {
    "duration": 371,
    "start_time": "2022-03-09T09:35:34.885Z"
   },
   {
    "duration": 256,
    "start_time": "2022-03-09T09:35:35.259Z"
   },
   {
    "duration": 175,
    "start_time": "2022-03-09T09:35:35.518Z"
   },
   {
    "duration": 189,
    "start_time": "2022-03-09T09:35:35.696Z"
   },
   {
    "duration": 5,
    "start_time": "2022-03-09T09:35:35.888Z"
   },
   {
    "duration": 165,
    "start_time": "2022-03-09T09:35:35.897Z"
   },
   {
    "duration": 150,
    "start_time": "2022-03-09T09:35:36.065Z"
   },
   {
    "duration": 85,
    "start_time": "2022-03-09T09:35:36.217Z"
   },
   {
    "duration": 20,
    "start_time": "2022-03-09T09:35:36.305Z"
   },
   {
    "duration": 25,
    "start_time": "2022-03-09T09:35:36.351Z"
   },
   {
    "duration": 592,
    "start_time": "2022-03-09T09:35:36.378Z"
   },
   {
    "duration": 45,
    "start_time": "2022-03-09T09:35:36.973Z"
   },
   {
    "duration": 2103,
    "start_time": "2022-03-09T09:35:37.022Z"
   },
   {
    "duration": 127,
    "start_time": "2022-03-09T09:35:39.127Z"
   },
   {
    "duration": 70,
    "start_time": "2022-03-09T09:35:39.260Z"
   },
   {
    "duration": 28,
    "start_time": "2022-03-09T09:35:39.333Z"
   },
   {
    "duration": 16,
    "start_time": "2022-03-09T09:35:39.364Z"
   },
   {
    "duration": 109,
    "start_time": "2022-03-09T09:35:39.382Z"
   },
   {
    "duration": 11,
    "start_time": "2022-03-09T09:35:39.493Z"
   },
   {
    "duration": 14,
    "start_time": "2022-03-09T09:35:39.507Z"
   },
   {
    "duration": 14,
    "start_time": "2022-03-09T09:35:39.552Z"
   },
   {
    "duration": 14,
    "start_time": "2022-03-09T09:35:39.569Z"
   },
   {
    "duration": 31,
    "start_time": "2022-03-09T09:35:39.585Z"
   },
   {
    "duration": 65,
    "start_time": "2022-03-09T09:35:39.618Z"
   },
   {
    "duration": 6,
    "start_time": "2022-03-09T09:35:39.685Z"
   },
   {
    "duration": 161,
    "start_time": "2022-03-09T09:35:39.697Z"
   },
   {
    "duration": 40,
    "start_time": "2022-03-09T09:35:39.861Z"
   },
   {
    "duration": 379,
    "start_time": "2022-03-09T09:35:39.905Z"
   },
   {
    "duration": 9,
    "start_time": "2022-03-09T09:35:40.286Z"
   },
   {
    "duration": 23,
    "start_time": "2022-03-09T09:35:40.297Z"
   },
   {
    "duration": 588,
    "start_time": "2022-03-09T09:35:40.351Z"
   },
   {
    "duration": 15,
    "start_time": "2022-03-09T09:35:40.942Z"
   },
   {
    "duration": 10,
    "start_time": "2022-03-09T09:35:40.960Z"
   },
   {
    "duration": 8,
    "start_time": "2022-03-09T09:35:40.972Z"
   },
   {
    "duration": 1076,
    "start_time": "2022-03-09T09:35:40.983Z"
   },
   {
    "duration": 1056,
    "start_time": "2022-03-09T09:35:42.062Z"
   },
   {
    "duration": 775,
    "start_time": "2022-03-09T09:35:43.120Z"
   },
   {
    "duration": 1114,
    "start_time": "2022-03-09T09:35:43.897Z"
   },
   {
    "duration": 12,
    "start_time": "2022-03-09T09:35:45.014Z"
   },
   {
    "duration": 25,
    "start_time": "2022-03-09T09:35:45.029Z"
   },
   {
    "duration": 18,
    "start_time": "2022-03-09T09:35:45.057Z"
   },
   {
    "duration": 12,
    "start_time": "2022-03-09T09:35:45.078Z"
   },
   {
    "duration": 8,
    "start_time": "2022-03-09T09:35:45.093Z"
   },
   {
    "duration": 10,
    "start_time": "2022-03-09T09:35:45.103Z"
   },
   {
    "duration": 41,
    "start_time": "2022-03-09T09:35:45.116Z"
   },
   {
    "duration": 11,
    "start_time": "2022-03-09T09:35:45.159Z"
   },
   {
    "duration": 7,
    "start_time": "2022-03-09T09:35:45.173Z"
   },
   {
    "duration": 8,
    "start_time": "2022-03-09T09:35:45.183Z"
   },
   {
    "duration": 12,
    "start_time": "2022-03-09T09:35:45.194Z"
   },
   {
    "duration": 89,
    "start_time": "2022-03-09T09:35:45.208Z"
   },
   {
    "duration": 8,
    "start_time": "2022-03-09T09:35:45.300Z"
   },
   {
    "duration": 48,
    "start_time": "2022-03-09T09:35:45.311Z"
   },
   {
    "duration": 47,
    "start_time": "2022-03-09T09:35:45.363Z"
   },
   {
    "duration": 395,
    "start_time": "2022-03-09T09:35:45.412Z"
   },
   {
    "duration": 207,
    "start_time": "2022-03-09T09:35:45.809Z"
   },
   {
    "duration": 2482,
    "start_time": "2022-03-09T09:35:46.018Z"
   },
   {
    "duration": 1111,
    "start_time": "2022-03-09T09:36:16.602Z"
   },
   {
    "duration": 1008,
    "start_time": "2022-03-09T09:36:21.515Z"
   },
   {
    "duration": 694,
    "start_time": "2022-03-09T09:42:37.680Z"
   },
   {
    "duration": 79,
    "start_time": "2022-03-09T10:09:56.979Z"
   },
   {
    "duration": 767,
    "start_time": "2022-03-09T10:15:21.784Z"
   },
   {
    "duration": 125,
    "start_time": "2022-03-09T10:15:22.554Z"
   },
   {
    "duration": 4,
    "start_time": "2022-03-09T10:15:22.682Z"
   },
   {
    "duration": 8,
    "start_time": "2022-03-09T10:15:22.689Z"
   },
   {
    "duration": 504,
    "start_time": "2022-03-09T10:15:22.700Z"
   },
   {
    "duration": 4,
    "start_time": "2022-03-09T10:15:23.206Z"
   },
   {
    "duration": 6,
    "start_time": "2022-03-09T10:15:23.212Z"
   },
   {
    "duration": 341,
    "start_time": "2022-03-09T10:15:23.220Z"
   },
   {
    "duration": 301,
    "start_time": "2022-03-09T10:15:23.565Z"
   },
   {
    "duration": 263,
    "start_time": "2022-03-09T10:15:23.869Z"
   },
   {
    "duration": 153,
    "start_time": "2022-03-09T10:15:24.135Z"
   },
   {
    "duration": 157,
    "start_time": "2022-03-09T10:15:24.290Z"
   },
   {
    "duration": 5,
    "start_time": "2022-03-09T10:15:24.450Z"
   },
   {
    "duration": 187,
    "start_time": "2022-03-09T10:15:24.458Z"
   },
   {
    "duration": 142,
    "start_time": "2022-03-09T10:15:24.648Z"
   },
   {
    "duration": 97,
    "start_time": "2022-03-09T10:15:24.793Z"
   },
   {
    "duration": 22,
    "start_time": "2022-03-09T10:15:24.892Z"
   },
   {
    "duration": 57,
    "start_time": "2022-03-09T10:15:24.916Z"
   },
   {
    "duration": 535,
    "start_time": "2022-03-09T10:15:24.975Z"
   },
   {
    "duration": 53,
    "start_time": "2022-03-09T10:15:25.512Z"
   },
   {
    "duration": 711,
    "start_time": "2022-03-09T10:15:25.568Z"
   },
   {
    "duration": 116,
    "start_time": "2022-03-09T10:15:26.281Z"
   },
   {
    "duration": 84,
    "start_time": "2022-03-09T10:15:26.399Z"
   },
   {
    "duration": 14,
    "start_time": "2022-03-09T10:15:26.485Z"
   },
   {
    "duration": 17,
    "start_time": "2022-03-09T10:15:26.502Z"
   },
   {
    "duration": 92,
    "start_time": "2022-03-09T10:15:26.522Z"
   },
   {
    "duration": 10,
    "start_time": "2022-03-09T10:15:26.620Z"
   },
   {
    "duration": 29,
    "start_time": "2022-03-09T10:15:26.633Z"
   },
   {
    "duration": 13,
    "start_time": "2022-03-09T10:15:26.664Z"
   },
   {
    "duration": 13,
    "start_time": "2022-03-09T10:15:26.681Z"
   },
   {
    "duration": 74,
    "start_time": "2022-03-09T10:15:26.696Z"
   },
   {
    "duration": 35,
    "start_time": "2022-03-09T10:15:26.772Z"
   },
   {
    "duration": 8,
    "start_time": "2022-03-09T10:15:26.809Z"
   },
   {
    "duration": 103,
    "start_time": "2022-03-09T10:15:26.819Z"
   },
   {
    "duration": 39,
    "start_time": "2022-03-09T10:15:26.924Z"
   },
   {
    "duration": 243,
    "start_time": "2022-03-09T10:15:26.965Z"
   },
   {
    "duration": 9,
    "start_time": "2022-03-09T10:15:27.211Z"
   },
   {
    "duration": 41,
    "start_time": "2022-03-09T10:15:27.222Z"
   },
   {
    "duration": 521,
    "start_time": "2022-03-09T10:15:27.266Z"
   },
   {
    "duration": 11,
    "start_time": "2022-03-09T10:15:27.790Z"
   },
   {
    "duration": 6,
    "start_time": "2022-03-09T10:15:27.804Z"
   },
   {
    "duration": 41,
    "start_time": "2022-03-09T10:15:27.813Z"
   },
   {
    "duration": 761,
    "start_time": "2022-03-09T10:15:27.858Z"
   },
   {
    "duration": 735,
    "start_time": "2022-03-09T10:15:28.621Z"
   },
   {
    "duration": 802,
    "start_time": "2022-03-09T10:15:29.358Z"
   },
   {
    "duration": 760,
    "start_time": "2022-03-09T10:15:30.162Z"
   },
   {
    "duration": 8,
    "start_time": "2022-03-09T10:15:30.924Z"
   },
   {
    "duration": 17,
    "start_time": "2022-03-09T10:15:30.934Z"
   },
   {
    "duration": 11,
    "start_time": "2022-03-09T10:15:30.953Z"
   },
   {
    "duration": 7,
    "start_time": "2022-03-09T10:15:30.966Z"
   },
   {
    "duration": 24,
    "start_time": "2022-03-09T10:15:30.975Z"
   },
   {
    "duration": 28,
    "start_time": "2022-03-09T10:15:31.001Z"
   },
   {
    "duration": 30,
    "start_time": "2022-03-09T10:15:31.031Z"
   },
   {
    "duration": 29,
    "start_time": "2022-03-09T10:15:31.064Z"
   },
   {
    "duration": 15,
    "start_time": "2022-03-09T10:15:31.095Z"
   },
   {
    "duration": 8,
    "start_time": "2022-03-09T10:15:31.112Z"
   },
   {
    "duration": 20,
    "start_time": "2022-03-09T10:15:31.122Z"
   },
   {
    "duration": 53,
    "start_time": "2022-03-09T10:15:31.145Z"
   },
   {
    "duration": 8,
    "start_time": "2022-03-09T10:15:31.201Z"
   },
   {
    "duration": 32,
    "start_time": "2022-03-09T10:15:31.212Z"
   },
   {
    "duration": 47,
    "start_time": "2022-03-09T10:15:31.252Z"
   },
   {
    "duration": 389,
    "start_time": "2022-03-09T10:15:31.302Z"
   },
   {
    "duration": 123,
    "start_time": "2022-03-09T10:15:31.694Z"
   },
   {
    "duration": 2192,
    "start_time": "2022-03-09T10:15:31.819Z"
   }
  ],
  "kernelspec": {
   "display_name": "Python 3 (ipykernel)",
   "language": "python",
   "name": "python3"
  },
  "language_info": {
   "codemirror_mode": {
    "name": "ipython",
    "version": 3
   },
   "file_extension": ".py",
   "mimetype": "text/x-python",
   "name": "python",
   "nbconvert_exporter": "python",
   "pygments_lexer": "ipython3",
   "version": "3.9.12"
  },
  "toc": {
   "base_numbering": 1,
   "nav_menu": {
    "height": "94.9858px",
    "width": "160px"
   },
   "number_sections": true,
   "sideBar": true,
   "skip_h1_title": true,
   "title_cell": "Оглавление",
   "title_sidebar": "Оглавление",
   "toc_cell": true,
   "toc_position": {
    "height": "calc(100% - 180px)",
    "left": "10px",
    "top": "150px",
    "width": "189.347px"
   },
   "toc_section_display": true,
   "toc_window_display": true
  }
 },
 "nbformat": 4,
 "nbformat_minor": 2
}
